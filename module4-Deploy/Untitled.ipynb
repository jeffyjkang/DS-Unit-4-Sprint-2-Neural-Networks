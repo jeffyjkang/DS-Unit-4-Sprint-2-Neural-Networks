{
 "cells": [
  {
   "cell_type": "markdown",
   "id": "538f9422-6896-4433-a03e-3e9192a2088f",
   "metadata": {},
   "source": [
    "### Early Stopping"
   ]
  },
  {
   "cell_type": "code",
   "execution_count": 1,
   "id": "4d3f92ca-90bb-4d4d-8ff3-e707948b1240",
   "metadata": {},
   "outputs": [],
   "source": [
    "%load_ext tensorboard"
   ]
  },
  {
   "cell_type": "code",
   "execution_count": 5,
   "id": "b290d627-8701-4dc8-b166-b0fdb3813cfe",
   "metadata": {},
   "outputs": [
    {
     "name": "stdout",
     "output_type": "stream",
     "text": [
      "Downloading data from https://storage.googleapis.com/tensorflow/tf-keras-datasets/train-labels-idx1-ubyte.gz\n",
      "32768/29515 [=================================] - 0s 2us/step\n",
      "40960/29515 [=========================================] - 0s 1us/step\n",
      "Downloading data from https://storage.googleapis.com/tensorflow/tf-keras-datasets/train-images-idx3-ubyte.gz\n",
      "26427392/26421880 [==============================] - 1s 0us/step\n",
      "26435584/26421880 [==============================] - 1s 0us/step\n",
      "Downloading data from https://storage.googleapis.com/tensorflow/tf-keras-datasets/t10k-labels-idx1-ubyte.gz\n",
      "16384/5148 [===============================================================================================] - 0s 0us/step\n",
      "Downloading data from https://storage.googleapis.com/tensorflow/tf-keras-datasets/t10k-images-idx3-ubyte.gz\n",
      "4423680/4422102 [==============================] - 0s 0us/step\n",
      "4431872/4422102 [==============================] - 0s 0us/step\n"
     ]
    }
   ],
   "source": [
    "from tensorflow.keras.datasets import fashion_mnist\n",
    "(X_train, y_train), (X_test, y_test) = fashion_mnist.load_data()"
   ]
  },
  {
   "cell_type": "code",
   "execution_count": 10,
   "id": "eae4df33-fbfc-43a1-870c-99d76c38f78c",
   "metadata": {},
   "outputs": [
    {
     "name": "stdout",
     "output_type": "stream",
     "text": [
      "(60000, 28, 28)\n"
     ]
    },
    {
     "data": {
      "image/png": "[encoded data removed]",
      "text/plain": [
       "<Figure size 432x288 with 1 Axes>"
      ]
     },
     "metadata": {
      "needs_background": "light"
     },
     "output_type": "display_data"
    }
   ],
   "source": [
    "import matplotlib.pyplot as plt\n",
    "\n",
    "print(X_train.shape)\n",
    "\n",
    "plt.title(y_train[10])\n",
    "plt.imshow(X_train[10]);"
   ]
  },
  {
   "cell_type": "code",
   "execution_count": 30,
   "id": "1f76fd7f-1c9b-402e-b58c-6111c17a698d",
   "metadata": {},
   "outputs": [],
   "source": [
    "max_pixel_value = 255.\n",
    "X_train, X_test = X_train / max_pixel_value, X_test / max_pixel_value\n",
    "# X_train[0]"
   ]
  },
  {
   "cell_type": "code",
   "execution_count": 41,
   "id": "91cbeff1-2c84-437b-83e4-f5f9f5062521",
   "metadata": {},
   "outputs": [],
   "source": [
    "from tensorflow.keras.callbacks import EarlyStopping, TensorBoard\n",
    "from tensorflow.keras.layers import Flatten, Dense, ReLU\n",
    "import tensorflow as tf\n",
    "import os"
   ]
  },
  {
   "cell_type": "code",
   "execution_count": 42,
   "id": "31abc0dd-1b80-4436-b4e3-f105b5bba3de",
   "metadata": {},
   "outputs": [
    {
     "name": "stdout",
     "output_type": "stream",
     "text": [
      "Epoch 1/99\n",
      "1875/1875 [==============================] - 8s 4ms/step - loss: 2.3029 - accuracy: 0.0982 - val_loss: 2.3026 - val_accuracy: 0.1000\n",
      "Epoch 2/99\n",
      "1875/1875 [==============================] - 7s 4ms/step - loss: 2.3028 - accuracy: 0.0992 - val_loss: 2.3027 - val_accuracy: 0.1000\n",
      "Epoch 3/99\n",
      "1875/1875 [==============================] - 8s 4ms/step - loss: 2.3029 - accuracy: 0.0984 - val_loss: 2.3027 - val_accuracy: 0.1000\n",
      "Epoch 4/99\n",
      "1875/1875 [==============================] - 8s 4ms/step - loss: 2.3028 - accuracy: 0.0978 - val_loss: 2.3026 - val_accuracy: 0.1000\n"
     ]
    },
    {
     "data": {
      "text/plain": [
       "<keras.callbacks.History at 0x7fa7d3b0ad60>"
      ]
     },
     "execution_count": 42,
     "metadata": {},
     "output_type": "execute_result"
    }
   ],
   "source": [
    "# create 2 dir -- one for tensorboard results and one for early stopping\n",
    "logdir = os.path.join('logs', 'EarlyStopping-Loss')\n",
    "\n",
    "# instantiate a tensorboard cb obj\n",
    "tensorboard_callback = TensorBoard(logdir, histogram_freq=1)\n",
    "# instantiate a early stopping callback obj\n",
    "stop = EarlyStopping(monitor='val_loss', min_delta=0.001, patience=3)\n",
    "\n",
    "model = tf.keras.Sequential([\n",
    "    # takes 2d image and flattens into row vector\n",
    "    Flatten(input_shape=(28,28)),\n",
    "    Dense(128), # hidden layer 1\n",
    "    ReLU(negative_slope=0.01), # act func 1\n",
    "    Dense(128), # hidden layer 2\n",
    "    ReLU(negative_slope=0.01), # act func 2\n",
    "    Dense(128), # hidden layer 3\n",
    "    ReLU(negative_slope=0.01), # act func 3\n",
    "    Dense(10, activation='softmax') # output layer, use softmax for classification of labels greater than 2\n",
    "])\n",
    "\n",
    "model.compile(loss='sparse_categorical_crossentropy', optimizer='nadam', metrics=['accuracy'])\n",
    "\n",
    "model.fit(X_train, y_train, epochs=99, validation_data=(X_test,y_test),callbacks=[tensorboard_callback, stop])"
   ]
  },
  {
   "cell_type": "code",
   "execution_count": 60,
   "id": "7dc17cb1-48b5-4b21-9d49-57924005e203",
   "metadata": {},
   "outputs": [],
   "source": [
    "# %tensorboard --logdir logs"
   ]
  },
  {
   "cell_type": "code",
   "execution_count": 61,
   "id": "9121868f-c586-42ef-88c7-be7bbac50ebc",
   "metadata": {},
   "outputs": [],
   "source": [
    "# Double check ^^^^^ tensorboard"
   ]
  },
  {
   "cell_type": "markdown",
   "id": "ad3730ea-efac-4576-902b-9cf948763d5f",
   "metadata": {},
   "source": [
    "### Weight Decay"
   ]
  },
  {
   "cell_type": "code",
   "execution_count": 51,
   "id": "1d0e09ac-1f9b-4778-8d2d-b11cc20a4e55",
   "metadata": {},
   "outputs": [],
   "source": [
    "from tensorflow.keras import regularizers\n",
    "from tensorflow.keras.callbacks import EarlyStopping, TensorBoard"
   ]
  },
  {
   "cell_type": "code",
   "execution_count": 48,
   "id": "a555fc3d-9216-41a6-abed-5d4cae895f6a",
   "metadata": {},
   "outputs": [
    {
     "data": {
      "text/plain": [
       "<keras.layers.core.dense.Dense at 0x7fa7d37d38b0>"
      ]
     },
     "execution_count": 48,
     "metadata": {},
     "output_type": "execute_result"
    }
   ],
   "source": [
    "Dense(64, input_dim=64, kernel_regularizer=regularizers.l2(0.01), activity_regularizer=regularizers.l1(0.01))"
   ]
  },
  {
   "cell_type": "code",
   "execution_count": 56,
   "id": "17ce1f5b-fcd0-4727-96b5-bc85aa0827b5",
   "metadata": {},
   "outputs": [
    {
     "name": "stdout",
     "output_type": "stream",
     "text": [
      "Epoch 1/99\n",
      "1875/1875 [==============================] - 34s 18ms/step - loss: 2.5177 - accuracy: 0.0978 - val_loss: 2.3029 - val_accuracy: 0.1000\n",
      "Epoch 2/99\n",
      "1875/1875 [==============================] - 34s 18ms/step - loss: 2.3030 - accuracy: 0.0970 - val_loss: 2.3028 - val_accuracy: 0.1000\n",
      "Epoch 3/99\n",
      "1875/1875 [==============================] - 36s 19ms/step - loss: 2.3029 - accuracy: 0.1009 - val_loss: 2.3030 - val_accuracy: 0.1000\n",
      "Epoch 4/99\n",
      "1875/1875 [==============================] - 39s 21ms/step - loss: 2.3030 - accuracy: 0.0994 - val_loss: 2.3031 - val_accuracy: 0.1000\n"
     ]
    },
    {
     "data": {
      "text/plain": [
       "<keras.callbacks.History at 0x7fa7b3cdcd60>"
      ]
     },
     "execution_count": 56,
     "metadata": {},
     "output_type": "execute_result"
    }
   ],
   "source": [
    "logdir = os.path.join('logs', 'EarlyStopping+:2_WeightDecay')\n",
    "\n",
    "tensorboard_callback = TensorBoard(logdir, histogram_freq=1)\n",
    "stop = EarlyStopping(monitor='val_loss', min_delta=0.001, patience=3)\n",
    "\n",
    "model = tf.keras.Sequential([\n",
    "    Flatten(input_shape=(28,28)),\n",
    "    Dense(512, kernel_regularizer=regularizers.l2(0.01)),\n",
    "    ReLU(negative_slope=.01),\n",
    "    Dense(512, kernel_regularizer=regularizers.l2(0.01)),\n",
    "    ReLU(negative_slope=.01),\n",
    "    Dense(512, kernel_regularizer=regularizers.l2(0.01)),\n",
    "    ReLU(negative_slope=.01),\n",
    "    Dense(10, activation='softmax')\n",
    "])\n",
    "\n",
    "model.compile(loss='sparse_categorical_crossentropy', optimizer='nadam', metrics=['accuracy'])\n",
    "\n",
    "model.fit(X_train, y_train, epochs=99, validation_data=(X_test, y_test), callbacks=[tensorboard_callback, stop])"
   ]
  },
  {
   "cell_type": "code",
   "execution_count": 57,
   "id": "aec9c4ac-15fa-4945-82fa-1c688145993b",
   "metadata": {},
   "outputs": [
    {
     "name": "stdout",
     "output_type": "stream",
     "text": [
      "Model: \"sequential_8\"\n",
      "_________________________________________________________________\n",
      " Layer (type)                Output Shape              Param #   \n",
      "=================================================================\n",
      " flatten_10 (Flatten)        (None, 784)               0         \n",
      "                                                                 \n",
      " dense_39 (Dense)            (None, 512)               401920    \n",
      "                                                                 \n",
      " re_lu_27 (ReLU)             (None, 512)               0         \n",
      "                                                                 \n",
      " dense_40 (Dense)            (None, 512)               262656    \n",
      "                                                                 \n",
      " re_lu_28 (ReLU)             (None, 512)               0         \n",
      "                                                                 \n",
      " dense_41 (Dense)            (None, 512)               262656    \n",
      "                                                                 \n",
      " re_lu_29 (ReLU)             (None, 512)               0         \n",
      "                                                                 \n",
      " dense_42 (Dense)            (None, 10)                5130      \n",
      "                                                                 \n",
      "=================================================================\n",
      "Total params: 932,362\n",
      "Trainable params: 932,362\n",
      "Non-trainable params: 0\n",
      "_________________________________________________________________\n"
     ]
    }
   ],
   "source": [
    "model.summary()"
   ]
  },
  {
   "cell_type": "code",
   "execution_count": 59,
   "id": "caa305b5-422a-4d87-8a7d-6d9a43359c43",
   "metadata": {},
   "outputs": [],
   "source": [
    "# %tensorboard --logdir logs"
   ]
  },
  {
   "cell_type": "markdown",
   "id": "9a7362b8-4331-42c9-b8dd-8a8670bcf4ac",
   "metadata": {},
   "source": [
    "### Weight Constraint"
   ]
  },
  {
   "cell_type": "code",
   "execution_count": 62,
   "id": "e65c59d7-c308-42d5-ab07-34b7b6e3a533",
   "metadata": {},
   "outputs": [
    {
     "data": {
      "text/plain": [
       "<keras.constraints.MaxNorm at 0x7fa7b2ff7790>"
      ]
     },
     "execution_count": 62,
     "metadata": {},
     "output_type": "execute_result"
    }
   ],
   "source": [
    "tf.keras.constraints.MaxNorm(max_value=2, axis=0)"
   ]
  },
  {
   "cell_type": "code",
   "execution_count": 63,
   "id": "66f9e519-f57c-439a-bab3-508073397709",
   "metadata": {},
   "outputs": [],
   "source": [
    "from tensorflow.keras.constraints import MaxNorm"
   ]
  },
  {
   "cell_type": "code",
   "execution_count": 66,
   "id": "5aff3a23-092c-4673-b74e-b63ad36c95c4",
   "metadata": {},
   "outputs": [
    {
     "name": "stdout",
     "output_type": "stream",
     "text": [
      "Epoch 1/99\n",
      "1875/1875 [==============================] - 37s 19ms/step - loss: 2.3030 - accuracy: 0.0976 - val_loss: 2.3027 - val_accuracy: 0.1000\n",
      "Epoch 2/99\n",
      "1875/1875 [==============================] - 36s 19ms/step - loss: 2.3029 - accuracy: 0.0987 - val_loss: 2.3047 - val_accuracy: 0.1000\n",
      "Epoch 3/99\n",
      "1875/1875 [==============================] - 38s 20ms/step - loss: 2.3029 - accuracy: 0.0974 - val_loss: 2.3027 - val_accuracy: 0.1000\n",
      "Epoch 4/99\n",
      "1875/1875 [==============================] - 37s 20ms/step - loss: 2.3029 - accuracy: 0.0985 - val_loss: 2.3028 - val_accuracy: 0.1000\n"
     ]
    },
    {
     "data": {
      "text/plain": [
       "<keras.callbacks.History at 0x7fa7b30864c0>"
      ]
     },
     "execution_count": 66,
     "metadata": {},
     "output_type": "execute_result"
    }
   ],
   "source": [
    "wc = MaxNorm(max_value=2)\n",
    "\n",
    "logdir = os.path.join('logs', 'EarlyStopping+WeightConstraint')\n",
    "\n",
    "tensorboard_callback = TensorBoard(logdir, histogram_freq=1)\n",
    "stop = EarlyStopping(monitor='val_loss', min_delta=0.001, patience=3)\n",
    "\n",
    "model = tf.keras.Sequential([\n",
    "    Flatten(input_shape=(28,28)),\n",
    "    Dense(512, kernel_constraint=wc),\n",
    "    ReLU(negative_slope=0.01),\n",
    "    Dense(512, kernel_constraint=wc),\n",
    "    ReLU(negative_slope=0.01),\n",
    "    Dense(512, kernel_constraint=wc),\n",
    "    ReLU(negative_slope=0.01),\n",
    "    Dense(10, activation='softmax')\n",
    "])\n",
    "\n",
    "model.compile(loss='sparse_categorical_crossentropy', optimizer='nadam', metrics=['accuracy'])\n",
    "\n",
    "model.fit(X_train, y_train, epochs=99, validation_data=(X_test,y_test), callbacks=[tensorboard_callback, stop])"
   ]
  },
  {
   "cell_type": "markdown",
   "id": "6017d40f-2957-40bc-87ed-53b1b3bfa921",
   "metadata": {},
   "source": [
    "### Dropouts"
   ]
  },
  {
   "cell_type": "code",
   "execution_count": 70,
   "id": "2eca1e45-1fdc-40c5-a30e-224d87cde244",
   "metadata": {},
   "outputs": [],
   "source": [
    "# %tensorboard --logdir logs"
   ]
  },
  {
   "cell_type": "code",
   "execution_count": 71,
   "id": "706f3049-a2ec-49ce-a8e3-82ee89e2e7f3",
   "metadata": {},
   "outputs": [],
   "source": [
    "from tensorflow.keras.layers import Dropout"
   ]
  },
  {
   "cell_type": "code",
   "execution_count": 73,
   "id": "f0acb179-0197-4ab4-9419-379f0a74c6c1",
   "metadata": {},
   "outputs": [
    {
     "name": "stdout",
     "output_type": "stream",
     "text": [
      "Epoch 1/99\n",
      "1875/1875 [==============================] - 38s 20ms/step - loss: 2.3031 - accuracy: 0.0995 - val_loss: 2.3027 - val_accuracy: 0.1000\n",
      "Epoch 2/99\n",
      "1875/1875 [==============================] - 35s 18ms/step - loss: 2.3029 - accuracy: 0.0990 - val_loss: 2.3029 - val_accuracy: 0.1000\n",
      "Epoch 3/99\n",
      "1875/1875 [==============================] - 36s 19ms/step - loss: 2.3030 - accuracy: 0.0999 - val_loss: 2.3027 - val_accuracy: 0.1000\n",
      "Epoch 4/99\n",
      "1875/1875 [==============================] - 37s 19ms/step - loss: 2.3030 - accuracy: 0.1006 - val_loss: 2.3027 - val_accuracy: 0.1000\n"
     ]
    },
    {
     "data": {
      "text/plain": [
       "<keras.callbacks.History at 0x7fa5f024ea30>"
      ]
     },
     "execution_count": 73,
     "metadata": {},
     "output_type": "execute_result"
    }
   ],
   "source": [
    "wc = MaxNorm(max_value=2)\n",
    "logdir = os.path.join('logs', 'EarlyStopping+WeightConstraint+Dropout')\n",
    "tensorboard_callback = TensorBoard(logdir, histogram_freq=1)\n",
    "stop = EarlyStopping(monitor='val_loss', min_delta=0.001, patience=3)\n",
    "\n",
    "model = tf.keras.Sequential([\n",
    "    Flatten(input_shape=(28,28)),\n",
    "    Dense(512, kernel_constraint=wc),\n",
    "    ReLU(negative_slope=0.01),\n",
    "    Dropout(.2),\n",
    "    Dense(512, kernel_constraint=wc),\n",
    "    ReLU(negative_slope=0.01),\n",
    "    Dropout(.2),\n",
    "    Dense(512, kernel_constraint=wc),\n",
    "    ReLU(negative_slope=0.01),\n",
    "    Dropout(.2),\n",
    "    Dense(10, activation='softmax')\n",
    "])\n",
    "\n",
    "model.compile(loss='sparse_categorical_crossentropy', optimizer='nadam', metrics=['accuracy'])\n",
    "\n",
    "model.fit(X_train, y_train, epochs=99, validation_data=(X_test,y_test), callbacks=[tensorboard_callback, stop])"
   ]
  },
  {
   "cell_type": "code",
   "execution_count": 77,
   "id": "79ab70c1-0e47-4b9b-9608-ec495e2383db",
   "metadata": {},
   "outputs": [],
   "source": [
    "# %tensorboard --logdir logs"
   ]
  },
  {
   "cell_type": "markdown",
   "id": "6d25defa-6979-45ed-80c6-880f1cd1bbe8",
   "metadata": {},
   "source": [
    "### Save"
   ]
  },
  {
   "cell_type": "code",
   "execution_count": 78,
   "id": "76495ad2-468c-4fb5-8764-c59a15937a9b",
   "metadata": {},
   "outputs": [
    {
     "name": "stdout",
     "output_type": "stream",
     "text": [
      "Epoch 1/2\n",
      "\n",
      "Epoch 00001: saving model to weights_best.h5\n",
      "1875/1875 - 6s - loss: 2.3028 - accuracy: 0.0992 - val_loss: 2.3027 - val_accuracy: 0.1000 - 6s/epoch - 3ms/step\n",
      "Epoch 2/2\n",
      "\n",
      "Epoch 00002: saving model to weights_best.h5\n",
      "1875/1875 - 6s - loss: 2.3029 - accuracy: 0.0996 - val_loss: 2.3028 - val_accuracy: 0.1000 - 6s/epoch - 3ms/step\n"
     ]
    },
    {
     "data": {
      "text/plain": [
       "<keras.callbacks.History at 0x7fa6d02854c0>"
      ]
     },
     "execution_count": 78,
     "metadata": {},
     "output_type": "execute_result"
    }
   ],
   "source": [
    "cpoint = tf.keras.callbacks.ModelCheckpoint('weights_best.h5', verbose=1, save_weight_only=True)\n",
    "\n",
    "def create_model():\n",
    "    model = tf.keras.Sequential([\n",
    "        Flatten(input_shape=(28,28)),\n",
    "        Dense(128),\n",
    "        ReLU(negative_slope=0.01),\n",
    "        Dense(128),\n",
    "        ReLU(negative_slope=0.01),\n",
    "        Dense(128),\n",
    "        ReLU(negative_slope=0.01),\n",
    "        Dense(10, activation='softmax')\n",
    "    ])\n",
    "    \n",
    "    model.compile(loss='sparse_categorical_crossentropy', optimizer='nadam', metrics=['accuracy'])\n",
    "    \n",
    "    return model\n",
    "\n",
    "model = create_model()\n",
    "model.fit(X_train, y_train, epochs=2, validation_data=(X_test, y_test), verbose=2, callbacks=[cpoint])"
   ]
  },
  {
   "cell_type": "code",
   "execution_count": 79,
   "id": "b1c4345b-46aa-457d-884a-75765cea3619",
   "metadata": {},
   "outputs": [
    {
     "name": "stdout",
     "output_type": "stream",
     "text": [
      "313/313 [==============================] - 0s 710us/step - loss: 2.3028 - accuracy: 0.1000\n"
     ]
    },
    {
     "data": {
      "text/plain": [
       "[2.302774667739868, 0.10000000149011612]"
      ]
     },
     "execution_count": 79,
     "metadata": {},
     "output_type": "execute_result"
    }
   ],
   "source": [
    "model.evaluate(X_test,y_test)"
   ]
  },
  {
   "cell_type": "code",
   "execution_count": 80,
   "id": "f4e65b45-25b0-4383-bf63-ce2938b95834",
   "metadata": {},
   "outputs": [
    {
     "name": "stdout",
     "output_type": "stream",
     "text": [
      "Model: \"sequential_12\"\n",
      "_________________________________________________________________\n",
      " Layer (type)                Output Shape              Param #   \n",
      "=================================================================\n",
      " flatten_15 (Flatten)        (None, 784)               0         \n",
      "                                                                 \n",
      " dense_58 (Dense)            (None, 128)               100480    \n",
      "                                                                 \n",
      " re_lu_42 (ReLU)             (None, 128)               0         \n",
      "                                                                 \n",
      " dense_59 (Dense)            (None, 128)               16512     \n",
      "                                                                 \n",
      " re_lu_43 (ReLU)             (None, 128)               0         \n",
      "                                                                 \n",
      " dense_60 (Dense)            (None, 128)               16512     \n",
      "                                                                 \n",
      " re_lu_44 (ReLU)             (None, 128)               0         \n",
      "                                                                 \n",
      " dense_61 (Dense)            (None, 10)                1290      \n",
      "                                                                 \n",
      "=================================================================\n",
      "Total params: 134,794\n",
      "Trainable params: 134,794\n",
      "Non-trainable params: 0\n",
      "_________________________________________________________________\n"
     ]
    }
   ],
   "source": [
    "m = create_model()\n",
    "m.load_weights('./weights_best.h5')\n",
    "m.summary()"
   ]
  },
  {
   "cell_type": "code",
   "execution_count": 81,
   "id": "6ce52246-3363-4dd3-af43-ef3905a15073",
   "metadata": {},
   "outputs": [
    {
     "name": "stdout",
     "output_type": "stream",
     "text": [
      "313/313 [==============================] - 0s 704us/step - loss: 2.3028 - accuracy: 0.1000\n"
     ]
    },
    {
     "data": {
      "text/plain": [
       "[2.302774667739868, 0.10000000149011612]"
      ]
     },
     "execution_count": 81,
     "metadata": {},
     "output_type": "execute_result"
    }
   ],
   "source": [
    "m.evaluate(X_test,y_test)"
   ]
  },
  {
   "cell_type": "markdown",
   "id": "3d0f0bdd-1813-4dde-be06-cedf264f493a",
   "metadata": {},
   "source": [
    "### Save Entire Model"
   ]
  },
  {
   "cell_type": "code",
   "execution_count": 82,
   "id": "683960d3-f7be-4228-9c85-5d12529e3e76",
   "metadata": {},
   "outputs": [
    {
     "name": "stdout",
     "output_type": "stream",
     "text": [
      "Epoch 1/5\n",
      "1875/1875 [==============================] - 7s 3ms/step - loss: 2.3028 - accuracy: 0.0985\n",
      "Epoch 2/5\n",
      "1875/1875 [==============================] - 6s 3ms/step - loss: 2.3028 - accuracy: 0.0992\n",
      "Epoch 3/5\n",
      "1875/1875 [==============================] - 6s 3ms/step - loss: 2.3029 - accuracy: 0.0989\n",
      "Epoch 4/5\n",
      "1875/1875 [==============================] - 7s 4ms/step - loss: 2.3028 - accuracy: 0.0996\n",
      "Epoch 5/5\n",
      "1875/1875 [==============================] - 7s 4ms/step - loss: 2.3028 - accuracy: 0.0992\n"
     ]
    },
    {
     "name": "stderr",
     "output_type": "stream",
     "text": [
      "2021-12-08 03:59:42.443500: W tensorflow/python/util/util.cc:368] Sets are not currently considered sequences, but this may change in the future, so consider avoiding using them.\n"
     ]
    },
    {
     "name": "stdout",
     "output_type": "stream",
     "text": [
      "INFO:tensorflow:Assets written to: saved_model/my_model/assets\n"
     ]
    }
   ],
   "source": [
    "# create and train a new model instance\n",
    "model = create_model()\n",
    "model.fit(X_train, y_train, epochs=5)\n",
    "\n",
    "# save the entire model as a saved model\n",
    "!mkdir -p saved_model\n",
    "model.save('saved_model/my_model')"
   ]
  },
  {
   "cell_type": "markdown",
   "id": "de7bacfe-0463-4936-a4b4-3c9d286ff293",
   "metadata": {},
   "source": [
    "#### Load Fresh Model"
   ]
  },
  {
   "cell_type": "code",
   "execution_count": 83,
   "id": "45eb2d50-46e4-4250-9db0-2aa475bbc2b8",
   "metadata": {},
   "outputs": [
    {
     "name": "stdout",
     "output_type": "stream",
     "text": [
      "Model: \"sequential_13\"\n",
      "_________________________________________________________________\n",
      " Layer (type)                Output Shape              Param #   \n",
      "=================================================================\n",
      " flatten_16 (Flatten)        (None, 784)               0         \n",
      "                                                                 \n",
      " dense_62 (Dense)            (None, 128)               100480    \n",
      "                                                                 \n",
      " re_lu_45 (ReLU)             (None, 128)               0         \n",
      "                                                                 \n",
      " dense_63 (Dense)            (None, 128)               16512     \n",
      "                                                                 \n",
      " re_lu_46 (ReLU)             (None, 128)               0         \n",
      "                                                                 \n",
      " dense_64 (Dense)            (None, 128)               16512     \n",
      "                                                                 \n",
      " re_lu_47 (ReLU)             (None, 128)               0         \n",
      "                                                                 \n",
      " dense_65 (Dense)            (None, 10)                1290      \n",
      "                                                                 \n",
      "=================================================================\n",
      "Total params: 134,794\n",
      "Trainable params: 134,794\n",
      "Non-trainable params: 0\n",
      "_________________________________________________________________\n"
     ]
    }
   ],
   "source": [
    "new_model = tf.keras.models.load_model('saved_model/my_model')\n",
    "\n",
    "# check architecture\n",
    "new_model.summary()"
   ]
  },
  {
   "cell_type": "code",
   "execution_count": 84,
   "id": "3ddda7a4-073c-4f82-ae04-e13c8d587fbd",
   "metadata": {},
   "outputs": [
    {
     "name": "stdout",
     "output_type": "stream",
     "text": [
      "313/313 [==============================] - 0s 827us/step - loss: 2.3027 - accuracy: 0.1000\n"
     ]
    },
    {
     "data": {
      "text/plain": [
       "[2.3027076721191406, 0.10000000149011612]"
      ]
     },
     "execution_count": 84,
     "metadata": {},
     "output_type": "execute_result"
    }
   ],
   "source": [
    "new_model.evaluate(X_test, y_test)"
   ]
  },
  {
   "cell_type": "code",
   "execution_count": null,
   "id": "6c1a7063-9bf2-4bf6-b694-de73099b3534",
   "metadata": {},
   "outputs": [],
   "source": []
  }
 ],
 "metadata": {
  "kernelspec": {
   "display_name": "Python 3 (ipykernel)",
   "language": "python",
   "name": "python3"
  },
  "language_info": {
   "codemirror_mode": {
    "name": "ipython",
    "version": 3
   },
   "file_extension": ".py",
   "mimetype": "text/x-python",
   "name": "python",
   "nbconvert_exporter": "python",
   "pygments_lexer": "ipython3",
   "version": "3.8.12"
  }
 },
 "nbformat": 4,
 "nbformat_minor": 5
}
