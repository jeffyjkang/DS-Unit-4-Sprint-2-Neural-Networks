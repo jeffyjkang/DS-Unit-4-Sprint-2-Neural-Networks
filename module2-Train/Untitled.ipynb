{
 "cells": [
  {
   "cell_type": "code",
   "execution_count": 3,
   "id": "44e4a7f0-842c-4b61-a5b0-8599c977ce76",
   "metadata": {},
   "outputs": [],
   "source": [
    "import tensorflow as tf\n",
    "\n",
    "# imagine that our data is drawn from a linear function\n",
    "# y = 3 * hours_studying + 50\n",
    "TRUE_W = 3.5\n",
    "TRUE_b = 50.0\n",
    "NUM_EXAMPLES = 1000\n",
    "\n",
    "inputs = tf.random.normal(shape=[NUM_EXAMPLES])\n",
    "noise = tf.random.normal(shape=[NUM_EXAMPLES])\n",
    "\n",
    "outputs = inputs * TRUE_W + TRUE_b + noise"
   ]
  },
  {
   "cell_type": "code",
   "execution_count": 4,
   "id": "f0ce5fae-8de7-40b4-b902-839fa0b6d6c6",
   "metadata": {},
   "outputs": [],
   "source": [
    "# loss funciton\n",
    "def loss(target_y, predicted_y):\n",
    "    'MSE'\n",
    "    return tf.reduce_mean(tf.square(target_y - predicted_y))\n"
   ]
  },
  {
   "cell_type": "markdown",
   "id": "5a77d77f-0b1e-4744-8edf-0a3ec82e22fa",
   "metadata": {},
   "source": [
    "## Neural Network Architecture\n",
    "\n",
    "Lets create a Neural Network class called 'Model' to contain this functionality. Note: This is essentially a linear regression whose coefficients are trained by gradient descent. In practice, gradient descent works on much more complex funcitons"
   ]
  },
  {
   "cell_type": "code",
   "execution_count": 5,
   "id": "9c329653-0e7a-452c-bdca-720ed5548bba",
   "metadata": {},
   "outputs": [],
   "source": [
    "class Model(object):\n",
    "    def __init__(self):\n",
    "        self.W = tf.Variable(8.0)\n",
    "        self.b = tf.Variable(40.0)\n",
    "    def __call__(self, x):\n",
    "        # y = mx + b\n",
    "        return self.W * x + self.b\n",
    "\n",
    "model = Model()\n",
    "\n",
    "assert model(3.0).numpy() == 64.0"
   ]
  },
  {
   "cell_type": "markdown",
   "id": "67436545-0608-418d-bb77-a6b21df8cd00",
   "metadata": {},
   "source": [
    "### Initial Weights\n",
    "\n",
    "The initial weights in our model were arbitrary. In practice, weights are initialzied randomly."
   ]
  },
  {
   "cell_type": "code",
   "execution_count": 6,
   "id": "ca82886f-cb4a-4071-8589-33ee03a6bd9e",
   "metadata": {},
   "outputs": [],
   "source": [
    "import matplotlib.pyplot as plt"
   ]
  },
  {
   "cell_type": "code",
   "execution_count": 9,
   "id": "cb2fca3a-0f6d-44b2-8102-c843ddb04112",
   "metadata": {},
   "outputs": [
    {
     "data": {
      "image/png": "[encoded data removed]",
      "text/plain": [
       "<Figure size 432x288 with 1 Axes>"
      ]
     },
     "metadata": {
      "needs_background": "light"
     },
     "output_type": "display_data"
    },
    {
     "name": "stdout",
     "output_type": "stream",
     "text": [
      "Current loss: 121.284676\n"
     ]
    }
   ],
   "source": [
    "plt.scatter(inputs, outputs, c='b', label='data')\n",
    "plt.scatter(inputs, model(inputs), c='r', label='model predictions')\n",
    "plt.legend()\n",
    "plt.show()\n",
    "\n",
    "print('Current loss: %1.6f' % loss(model(inputs), outputs).numpy())"
   ]
  },
  {
   "cell_type": "markdown",
   "id": "df15bd77-b98e-4426-8923-4ae9d19170f5",
   "metadata": {},
   "source": [
    "## Update weights based on Gradient"
   ]
  },
  {
   "cell_type": "code",
   "execution_count": 15,
   "id": "ef7a178f-9115-4839-a7d6-0138dbed34af",
   "metadata": {},
   "outputs": [],
   "source": [
    "def train(model, inputs, outputs, learning_rate):\n",
    "    with tf.GradientTape() as t:\n",
    "        current_loss = loss(outputs, model(inputs)) # single value\n",
    "    dW, db = t.gradient(current_loss, [model.W, model.b]) # backprop, how much does a particular obvs + W + b contribute\n",
    "    model.W.assign_sub(learning_rate * dW)\n",
    "    model.b.assign_sub(learning_rate * db)"
   ]
  },
  {
   "cell_type": "markdown",
   "id": "f1f8ce8d-ecfd-4f61-99e8-c5b4fe340db7",
   "metadata": {},
   "source": [
    "## Train the network"
   ]
  },
  {
   "cell_type": "code",
   "execution_count": 16,
   "id": "d0a32ff3-ad53-4b8b-9f18-906c229eaec5",
   "metadata": {},
   "outputs": [
    {
     "name": "stdout",
     "output_type": "stream",
     "text": [
      "Epoch  0: W=8.00 b=40.00 loss=121.28468\n",
      "Epoch  1: W=7.12 b=42.01 loss=78.05488\n",
      "Epoch  2: W=6.41 b=43.61 loss=50.36736\n",
      "Epoch  3: W=5.84 b=44.89 loss=32.63407\n",
      "Epoch  4: W=5.38 b=45.92 loss=21.27613\n",
      "Epoch  5: W=5.02 b=46.74 loss=14.00141\n",
      "Epoch  6: W=4.72 b=47.40 loss=9.34193\n",
      "Epoch  7: W=4.48 b=47.92 loss=6.35749\n",
      "Epoch  8: W=4.29 b=48.34 loss=4.44590\n",
      "Epoch  9: W=4.14 b=48.68 loss=3.22147\n",
      "Epoch 10: W=4.02 b=48.94 loss=2.43718\n",
      "Epoch 11: W=3.92 b=49.16 loss=1.93481\n",
      "Epoch 12: W=3.84 b=49.33 loss=1.61302\n",
      "Epoch 13: W=3.77 b=49.47 loss=1.40689\n",
      "Epoch 14: W=3.72 b=49.58 loss=1.27485\n"
     ]
    }
   ],
   "source": [
    "model = Model()\n",
    "\n",
    "# store some history of weights\n",
    "Ws, bs = [], []\n",
    "epochs = range(15)\n",
    "for epoch in epochs:\n",
    "    Ws.append(model.W.numpy())\n",
    "    bs.append(model.b.numpy())\n",
    "    current_loss = loss(outputs, model(inputs))\n",
    "    \n",
    "    train(model, inputs, outputs, learning_rate=0.1)\n",
    "    print('Epoch %2d: W=%1.2f b=%1.2f loss=%2.5f' % (epoch, Ws[-1], bs[-1], current_loss))\n"
   ]
  },
  {
   "cell_type": "code",
   "execution_count": 17,
   "id": "69e303b3-d174-45c8-b44f-38ea90809e20",
   "metadata": {},
   "outputs": [
    {
     "data": {
      "image/png": "[encoded data removed]",
      "text/plain": [
       "<Figure size 432x288 with 1 Axes>"
      ]
     },
     "metadata": {
      "needs_background": "light"
     },
     "output_type": "display_data"
    }
   ],
   "source": [
    "plt.plot(epochs, Ws, 'r', epochs, bs, 'b')\n",
    "plt.plot([TRUE_W] * len(epochs), 'r--', [TRUE_b] * len(epochs), 'b--')\n",
    "plt.legend(['W', 'b', 'True W', 'True b'])\n",
    "plt.show()"
   ]
  },
  {
   "cell_type": "code",
   "execution_count": 19,
   "id": "edb74bf5-d3f2-4066-a7af-a20112cfa8a5",
   "metadata": {},
   "outputs": [
    {
     "data": {
      "image/png": "[encoded data removed]",
      "text/plain": [
       "<Figure size 432x288 with 1 Axes>"
      ]
     },
     "metadata": {
      "needs_background": "light"
     },
     "output_type": "display_data"
    }
   ],
   "source": [
    "plt.scatter(inputs, outputs, c='b', label='data')\n",
    "plt.scatter(inputs, model(inputs), c='r', label='model predictions')\n",
    "plt.legend()\n",
    "plt.show()"
   ]
  },
  {
   "cell_type": "markdown",
   "id": "7071f499-00cd-4e02-ab26-58e63f99f519",
   "metadata": {},
   "source": [
    "# Batchsize\n",
    "## Baseline Model\n"
   ]
  },
  {
   "cell_type": "code",
   "execution_count": 37,
   "id": "b24e3ef1-5b46-4452-8745-de29ff764317",
   "metadata": {},
   "outputs": [],
   "source": [
    "from tensorflow.keras.datasets import mnist\n",
    "\n",
    "(X_train, y_train), (X_test, y_test) = mnist.load_data()\n",
    "\n",
    "max_pixel_value = 255\n",
    "X_train = X_train / max_pixel_value\n",
    "X_test = X_test / max_pixel_value\n",
    "\n",
    "X_train = X_train.reshape((60000, 784))\n",
    "X_test = X_test.reshape((10000, 784))"
   ]
  },
  {
   "cell_type": "code",
   "execution_count": 34,
   "id": "77d584af-52d5-46cb-8512-c4676a20d0d0",
   "metadata": {},
   "outputs": [],
   "source": [
    "# our model\n",
    "from tensorflow.keras import Sequential\n",
    "from tensorflow.keras.layers import Dense\n",
    "from tensorflow.keras.optimizers import SGD\n",
    "\n",
    "def create_model(lr=.01):\n",
    "    opt = SGD(learning_rate=lr)\n",
    "    model = Sequential([\n",
    "        Dense(1, activation='relu', input_dim=784),\n",
    "        Dense(32, activation='relu'),\n",
    "        Dense(10, activation='softmax')\n",
    "    ])\n",
    "    model.compile(optimizer=opt, loss='sparse_categorical_crossentropy', metrics=['accuracy'])\n",
    "    return model"
   ]
  },
  {
   "cell_type": "code",
   "execution_count": 36,
   "id": "acd9aa99-4322-456e-95b7-13148317b319",
   "metadata": {},
   "outputs": [
    {
     "name": "stdout",
     "output_type": "stream",
     "text": [
      "Model: \"sequential_2\"\n",
      "_________________________________________________________________\n",
      " Layer (type)                Output Shape              Param #   \n",
      "=================================================================\n",
      " dense_7 (Dense)             (None, 1)                 785       \n",
      "                                                                 \n",
      " dense_8 (Dense)             (None, 32)                64        \n",
      "                                                                 \n",
      " dense_9 (Dense)             (None, 10)                330       \n",
      "                                                                 \n",
      "=================================================================\n",
      "Total params: 1,179\n",
      "Trainable params: 1,179\n",
      "Non-trainable params: 0\n",
      "_________________________________________________________________\n"
     ]
    }
   ],
   "source": [
    "create_model().summary()"
   ]
  },
  {
   "cell_type": "code",
   "execution_count": 41,
   "id": "5ebb77bb-ec28-497c-b83d-31ed90c984ad",
   "metadata": {},
   "outputs": [
    {
     "name": "stdout",
     "output_type": "stream",
     "text": [
      "Epoch 1/25\n",
      "1875/1875 [==============================] - 2s 773us/step - loss: 2.0480 - accuracy: 0.2009 - val_loss: 1.9079 - val_accuracy: 0.2163\n",
      "Epoch 2/25\n",
      "1875/1875 [==============================] - 1s 691us/step - loss: 1.8649 - accuracy: 0.2472 - val_loss: 1.8351 - val_accuracy: 0.2706\n",
      "Epoch 3/25\n",
      "1875/1875 [==============================] - 1s 666us/step - loss: 1.8041 - accuracy: 0.2830 - val_loss: 1.7828 - val_accuracy: 0.2964\n",
      "Epoch 4/25\n",
      "1875/1875 [==============================] - 1s 676us/step - loss: 1.7594 - accuracy: 0.3123 - val_loss: 1.7443 - val_accuracy: 0.3271\n",
      "Epoch 5/25\n",
      "1875/1875 [==============================] - 1s 688us/step - loss: 1.7178 - accuracy: 0.3230 - val_loss: 1.7088 - val_accuracy: 0.3295\n",
      "Epoch 6/25\n",
      "1875/1875 [==============================] - 1s 685us/step - loss: 1.6831 - accuracy: 0.3231 - val_loss: 1.6822 - val_accuracy: 0.3138\n",
      "Epoch 7/25\n",
      "1875/1875 [==============================] - 1s 707us/step - loss: 1.6590 - accuracy: 0.3276 - val_loss: 1.6624 - val_accuracy: 0.3369\n",
      "Epoch 8/25\n",
      "1875/1875 [==============================] - 1s 696us/step - loss: 1.6402 - accuracy: 0.3359 - val_loss: 1.6477 - val_accuracy: 0.3294\n",
      "Epoch 9/25\n",
      "1875/1875 [==============================] - 1s 695us/step - loss: 1.6263 - accuracy: 0.3406 - val_loss: 1.6333 - val_accuracy: 0.3510\n",
      "Epoch 10/25\n",
      "1875/1875 [==============================] - 1s 695us/step - loss: 1.6139 - accuracy: 0.3473 - val_loss: 1.6166 - val_accuracy: 0.3555\n",
      "Epoch 11/25\n",
      "1875/1875 [==============================] - 1s 696us/step - loss: 1.6023 - accuracy: 0.3542 - val_loss: 1.6047 - val_accuracy: 0.3592\n",
      "Epoch 12/25\n",
      "1875/1875 [==============================] - 1s 675us/step - loss: 1.5900 - accuracy: 0.3609 - val_loss: 1.6020 - val_accuracy: 0.3616\n",
      "Epoch 13/25\n",
      "1875/1875 [==============================] - 1s 681us/step - loss: 1.5784 - accuracy: 0.3643 - val_loss: 1.5774 - val_accuracy: 0.3824\n",
      "Epoch 14/25\n",
      "1875/1875 [==============================] - 1s 695us/step - loss: 1.5663 - accuracy: 0.3694 - val_loss: 1.5694 - val_accuracy: 0.3698\n",
      "Epoch 15/25\n",
      "1875/1875 [==============================] - 1s 695us/step - loss: 1.5559 - accuracy: 0.3726 - val_loss: 1.5637 - val_accuracy: 0.3803\n",
      "Epoch 16/25\n",
      "1875/1875 [==============================] - 1s 671us/step - loss: 1.5475 - accuracy: 0.3848 - val_loss: 1.5517 - val_accuracy: 0.3977\n",
      "Epoch 17/25\n",
      "1875/1875 [==============================] - 1s 704us/step - loss: 1.5392 - accuracy: 0.3926 - val_loss: 1.5455 - val_accuracy: 0.3889\n",
      "Epoch 18/25\n",
      "1875/1875 [==============================] - 1s 696us/step - loss: 1.5316 - accuracy: 0.3999 - val_loss: 1.5401 - val_accuracy: 0.3952\n",
      "Epoch 19/25\n",
      "1875/1875 [==============================] - 1s 711us/step - loss: 1.5252 - accuracy: 0.4017 - val_loss: 1.5300 - val_accuracy: 0.4021\n",
      "Epoch 20/25\n",
      "1875/1875 [==============================] - 1s 681us/step - loss: 1.5186 - accuracy: 0.4068 - val_loss: 1.5298 - val_accuracy: 0.4024\n",
      "Epoch 21/25\n",
      "1875/1875 [==============================] - 1s 694us/step - loss: 1.5116 - accuracy: 0.4077 - val_loss: 1.5176 - val_accuracy: 0.4094\n",
      "Epoch 22/25\n",
      "1875/1875 [==============================] - 1s 697us/step - loss: 1.5054 - accuracy: 0.4146 - val_loss: 1.5091 - val_accuracy: 0.4189\n",
      "Epoch 23/25\n",
      "1875/1875 [==============================] - 1s 699us/step - loss: 1.4992 - accuracy: 0.4192 - val_loss: 1.5038 - val_accuracy: 0.4180\n",
      "Epoch 24/25\n",
      "1875/1875 [==============================] - 1s 672us/step - loss: 1.4926 - accuracy: 0.4239 - val_loss: 1.4950 - val_accuracy: 0.4376\n",
      "Epoch 25/25\n",
      "1875/1875 [==============================] - 1s 670us/step - loss: 1.4851 - accuracy: 0.4315 - val_loss: 1.5225 - val_accuracy: 0.4153\n"
     ]
    }
   ],
   "source": [
    "bt_default = create_model().fit(X_train, y_train, epochs=25, batch_size=32, validation_data=(X_test,y_test))"
   ]
  },
  {
   "cell_type": "code",
   "execution_count": 42,
   "id": "a6cf35d6-44a4-41ee-8387-9cb8856b56c2",
   "metadata": {},
   "outputs": [
    {
     "name": "stdout",
     "output_type": "stream",
     "text": [
      "Epoch 1/25\n",
      "7500/7500 [==============================] - 5s 667us/step - loss: 1.8918 - accuracy: 0.2596 - val_loss: 1.7586 - val_accuracy: 0.2937\n",
      "Epoch 2/25\n",
      "7500/7500 [==============================] - 5s 650us/step - loss: 1.7171 - accuracy: 0.3036 - val_loss: 1.7074 - val_accuracy: 0.3149\n",
      "Epoch 3/25\n",
      "7500/7500 [==============================] - 5s 652us/step - loss: 1.6872 - accuracy: 0.3137 - val_loss: 1.6827 - val_accuracy: 0.3136\n",
      "Epoch 4/25\n",
      "7500/7500 [==============================] - 5s 663us/step - loss: 1.6113 - accuracy: 0.3755 - val_loss: 1.5755 - val_accuracy: 0.3945\n",
      "Epoch 5/25\n",
      "7500/7500 [==============================] - 5s 658us/step - loss: 1.5396 - accuracy: 0.3959 - val_loss: 1.5466 - val_accuracy: 0.4002\n",
      "Epoch 6/25\n",
      "7500/7500 [==============================] - 5s 652us/step - loss: 1.5120 - accuracy: 0.4022 - val_loss: 1.5538 - val_accuracy: 0.3772\n",
      "Epoch 7/25\n",
      "7500/7500 [==============================] - 5s 646us/step - loss: 1.4944 - accuracy: 0.4108 - val_loss: 1.5279 - val_accuracy: 0.3939\n",
      "Epoch 8/25\n",
      "7500/7500 [==============================] - 5s 643us/step - loss: 1.4815 - accuracy: 0.4152 - val_loss: 1.4875 - val_accuracy: 0.4173\n",
      "Epoch 9/25\n",
      "7500/7500 [==============================] - 5s 647us/step - loss: 1.4684 - accuracy: 0.4222 - val_loss: 1.4677 - val_accuracy: 0.4297\n",
      "Epoch 10/25\n",
      "7500/7500 [==============================] - 5s 640us/step - loss: 1.4574 - accuracy: 0.4239 - val_loss: 1.4835 - val_accuracy: 0.4295\n",
      "Epoch 11/25\n",
      "7500/7500 [==============================] - 5s 645us/step - loss: 1.4469 - accuracy: 0.4255 - val_loss: 1.4470 - val_accuracy: 0.4277\n",
      "Epoch 12/25\n",
      "7500/7500 [==============================] - 5s 654us/step - loss: 1.4373 - accuracy: 0.4270 - val_loss: 1.4399 - val_accuracy: 0.4266\n",
      "Epoch 13/25\n",
      "7500/7500 [==============================] - 5s 651us/step - loss: 1.4310 - accuracy: 0.4309 - val_loss: 1.4483 - val_accuracy: 0.4198\n",
      "Epoch 14/25\n",
      "7500/7500 [==============================] - 5s 646us/step - loss: 1.4246 - accuracy: 0.4323 - val_loss: 1.4272 - val_accuracy: 0.4356\n",
      "Epoch 15/25\n",
      "7500/7500 [==============================] - 5s 648us/step - loss: 1.4203 - accuracy: 0.4326 - val_loss: 1.4430 - val_accuracy: 0.4285\n",
      "Epoch 16/25\n",
      "7500/7500 [==============================] - 5s 632us/step - loss: 1.4178 - accuracy: 0.4347 - val_loss: 1.4504 - val_accuracy: 0.4262\n",
      "Epoch 17/25\n",
      "7500/7500 [==============================] - 5s 643us/step - loss: 1.4167 - accuracy: 0.4340 - val_loss: 1.4175 - val_accuracy: 0.4427\n",
      "Epoch 18/25\n",
      "7500/7500 [==============================] - 5s 642us/step - loss: 1.4119 - accuracy: 0.4405 - val_loss: 1.4152 - val_accuracy: 0.4428\n",
      "Epoch 19/25\n",
      "7500/7500 [==============================] - 5s 647us/step - loss: 1.4125 - accuracy: 0.4408 - val_loss: 1.4127 - val_accuracy: 0.4416\n",
      "Epoch 20/25\n",
      "7500/7500 [==============================] - 5s 648us/step - loss: 1.4105 - accuracy: 0.4430 - val_loss: 1.4622 - val_accuracy: 0.4318\n",
      "Epoch 21/25\n",
      "7500/7500 [==============================] - 5s 642us/step - loss: 1.4079 - accuracy: 0.4425 - val_loss: 1.4239 - val_accuracy: 0.4415\n",
      "Epoch 22/25\n",
      "7500/7500 [==============================] - 5s 649us/step - loss: 1.4070 - accuracy: 0.4443 - val_loss: 1.4190 - val_accuracy: 0.4369\n",
      "Epoch 23/25\n",
      "7500/7500 [==============================] - 5s 647us/step - loss: 1.4051 - accuracy: 0.4461 - val_loss: 1.4156 - val_accuracy: 0.4424\n",
      "Epoch 24/25\n",
      "7500/7500 [==============================] - 5s 657us/step - loss: 1.4055 - accuracy: 0.4474 - val_loss: 1.4347 - val_accuracy: 0.4370\n",
      "Epoch 25/25\n",
      "7500/7500 [==============================] - 5s 660us/step - loss: 1.4034 - accuracy: 0.4502 - val_loss: 1.4058 - val_accuracy: 0.4513\n"
     ]
    }
   ],
   "source": [
    "bt_small = create_model().fit(X_train, y_train, epochs=25, batch_size=8, validation_data=(X_test,y_test))"
   ]
  },
  {
   "cell_type": "code",
   "execution_count": 43,
   "id": "18dd1183-a3af-4f65-8860-64b526a16ea2",
   "metadata": {},
   "outputs": [
    {
     "name": "stdout",
     "output_type": "stream",
     "text": [
      "Epoch 1/25\n",
      "118/118 [==============================] - 0s 2ms/step - loss: 2.3027 - accuracy: 0.1071 - val_loss: 2.3024 - val_accuracy: 0.1101\n",
      "Epoch 2/25\n",
      "118/118 [==============================] - 0s 1ms/step - loss: 2.3022 - accuracy: 0.1103 - val_loss: 2.3021 - val_accuracy: 0.1127\n",
      "Epoch 3/25\n",
      "118/118 [==============================] - 0s 1ms/step - loss: 2.3020 - accuracy: 0.1116 - val_loss: 2.3018 - val_accuracy: 0.1130\n",
      "Epoch 4/25\n",
      "118/118 [==============================] - 0s 1ms/step - loss: 2.3018 - accuracy: 0.1121 - val_loss: 2.3016 - val_accuracy: 0.1133\n",
      "Epoch 5/25\n",
      "118/118 [==============================] - 0s 1ms/step - loss: 2.3016 - accuracy: 0.1123 - val_loss: 2.3015 - val_accuracy: 0.1134\n",
      "Epoch 6/25\n",
      "118/118 [==============================] - 0s 1ms/step - loss: 2.3015 - accuracy: 0.1124 - val_loss: 2.3014 - val_accuracy: 0.1135\n",
      "Epoch 7/25\n",
      "118/118 [==============================] - 0s 1ms/step - loss: 2.3014 - accuracy: 0.1124 - val_loss: 2.3013 - val_accuracy: 0.1135\n",
      "Epoch 8/25\n",
      "118/118 [==============================] - 0s 2ms/step - loss: 2.3014 - accuracy: 0.1124 - val_loss: 2.3013 - val_accuracy: 0.1135\n",
      "Epoch 9/25\n",
      "118/118 [==============================] - 0s 2ms/step - loss: 2.3013 - accuracy: 0.1124 - val_loss: 2.3012 - val_accuracy: 0.1135\n",
      "Epoch 10/25\n",
      "118/118 [==============================] - 0s 2ms/step - loss: 2.3013 - accuracy: 0.1124 - val_loss: 2.3012 - val_accuracy: 0.1135\n",
      "Epoch 11/25\n",
      "118/118 [==============================] - 0s 1ms/step - loss: 2.3013 - accuracy: 0.1124 - val_loss: 2.3012 - val_accuracy: 0.1135\n",
      "Epoch 12/25\n",
      "118/118 [==============================] - 0s 1ms/step - loss: 2.3012 - accuracy: 0.1124 - val_loss: 2.3011 - val_accuracy: 0.1135\n",
      "Epoch 13/25\n",
      "118/118 [==============================] - 0s 1ms/step - loss: 2.3012 - accuracy: 0.1124 - val_loss: 2.3011 - val_accuracy: 0.1135\n",
      "Epoch 14/25\n",
      "118/118 [==============================] - 0s 1ms/step - loss: 2.3012 - accuracy: 0.1124 - val_loss: 2.3011 - val_accuracy: 0.1135\n",
      "Epoch 15/25\n",
      "118/118 [==============================] - 0s 1ms/step - loss: 2.3012 - accuracy: 0.1124 - val_loss: 2.3011 - val_accuracy: 0.1135\n",
      "Epoch 16/25\n",
      "118/118 [==============================] - 0s 1ms/step - loss: 2.3012 - accuracy: 0.1124 - val_loss: 2.3011 - val_accuracy: 0.1135\n",
      "Epoch 17/25\n",
      "118/118 [==============================] - 0s 1ms/step - loss: 2.3012 - accuracy: 0.1124 - val_loss: 2.3011 - val_accuracy: 0.1135\n",
      "Epoch 18/25\n",
      "118/118 [==============================] - 0s 1ms/step - loss: 2.3012 - accuracy: 0.1124 - val_loss: 2.3011 - val_accuracy: 0.1135\n",
      "Epoch 19/25\n",
      "118/118 [==============================] - 0s 1ms/step - loss: 2.3012 - accuracy: 0.1124 - val_loss: 2.3011 - val_accuracy: 0.1135\n",
      "Epoch 20/25\n",
      "118/118 [==============================] - 0s 1ms/step - loss: 2.3012 - accuracy: 0.1124 - val_loss: 2.3011 - val_accuracy: 0.1135\n",
      "Epoch 21/25\n",
      "118/118 [==============================] - 0s 1ms/step - loss: 2.3012 - accuracy: 0.1124 - val_loss: 2.3011 - val_accuracy: 0.1135\n",
      "Epoch 22/25\n",
      "118/118 [==============================] - 0s 1ms/step - loss: 2.3012 - accuracy: 0.1124 - val_loss: 2.3010 - val_accuracy: 0.1135\n",
      "Epoch 23/25\n",
      "118/118 [==============================] - 0s 1ms/step - loss: 2.3012 - accuracy: 0.1124 - val_loss: 2.3010 - val_accuracy: 0.1135\n",
      "Epoch 24/25\n",
      "118/118 [==============================] - 0s 1ms/step - loss: 2.3012 - accuracy: 0.1124 - val_loss: 2.3010 - val_accuracy: 0.1135\n",
      "Epoch 25/25\n",
      "118/118 [==============================] - 0s 1ms/step - loss: 2.3012 - accuracy: 0.1124 - val_loss: 2.3010 - val_accuracy: 0.1135\n"
     ]
    }
   ],
   "source": [
    "bt_large = create_model().fit(X_train, y_train, epochs=25, batch_size=512, validation_data=(X_test,y_test))"
   ]
  },
  {
   "cell_type": "code",
   "execution_count": 56,
   "id": "2f081333-9085-4fe3-a129-e6eb8bcce3c5",
   "metadata": {},
   "outputs": [
    {
     "data": {
      "text/html": [
       "<div>\n",
       "<style scoped>\n",
       "    .dataframe tbody tr th:only-of-type {\n",
       "        vertical-align: middle;\n",
       "    }\n",
       "\n",
       "    .dataframe tbody tr th {\n",
       "        vertical-align: top;\n",
       "    }\n",
       "\n",
       "    .dataframe thead th {\n",
       "        text-align: right;\n",
       "    }\n",
       "</style>\n",
       "<table border=\"1\" class=\"dataframe\">\n",
       "  <thead>\n",
       "    <tr style=\"text-align: right;\">\n",
       "      <th></th>\n",
       "      <th>loss</th>\n",
       "      <th>accuracy</th>\n",
       "      <th>val_loss</th>\n",
       "      <th>val_accuracy</th>\n",
       "      <th>epoch</th>\n",
       "      <th>Batch Size</th>\n",
       "    </tr>\n",
       "  </thead>\n",
       "  <tbody>\n",
       "    <tr>\n",
       "      <th>0</th>\n",
       "      <td>2.047978</td>\n",
       "      <td>0.200883</td>\n",
       "      <td>1.907864</td>\n",
       "      <td>0.2163</td>\n",
       "      <td>0</td>\n",
       "      <td>32_</td>\n",
       "    </tr>\n",
       "    <tr>\n",
       "      <th>1</th>\n",
       "      <td>1.864856</td>\n",
       "      <td>0.247217</td>\n",
       "      <td>1.835067</td>\n",
       "      <td>0.2706</td>\n",
       "      <td>1</td>\n",
       "      <td>32_</td>\n",
       "    </tr>\n",
       "    <tr>\n",
       "      <th>2</th>\n",
       "      <td>1.804099</td>\n",
       "      <td>0.283033</td>\n",
       "      <td>1.782820</td>\n",
       "      <td>0.2964</td>\n",
       "      <td>2</td>\n",
       "      <td>32_</td>\n",
       "    </tr>\n",
       "    <tr>\n",
       "      <th>3</th>\n",
       "      <td>1.759385</td>\n",
       "      <td>0.312283</td>\n",
       "      <td>1.744332</td>\n",
       "      <td>0.3271</td>\n",
       "      <td>3</td>\n",
       "      <td>32_</td>\n",
       "    </tr>\n",
       "    <tr>\n",
       "      <th>4</th>\n",
       "      <td>1.717764</td>\n",
       "      <td>0.323017</td>\n",
       "      <td>1.708817</td>\n",
       "      <td>0.3295</td>\n",
       "      <td>4</td>\n",
       "      <td>32_</td>\n",
       "    </tr>\n",
       "    <tr>\n",
       "      <th>...</th>\n",
       "      <td>...</td>\n",
       "      <td>...</td>\n",
       "      <td>...</td>\n",
       "      <td>...</td>\n",
       "      <td>...</td>\n",
       "      <td>...</td>\n",
       "    </tr>\n",
       "    <tr>\n",
       "      <th>70</th>\n",
       "      <td>2.301172</td>\n",
       "      <td>0.112367</td>\n",
       "      <td>2.301051</td>\n",
       "      <td>0.1135</td>\n",
       "      <td>20</td>\n",
       "      <td>512_</td>\n",
       "    </tr>\n",
       "    <tr>\n",
       "      <th>71</th>\n",
       "      <td>2.301170</td>\n",
       "      <td>0.112367</td>\n",
       "      <td>2.301045</td>\n",
       "      <td>0.1135</td>\n",
       "      <td>21</td>\n",
       "      <td>512_</td>\n",
       "    </tr>\n",
       "    <tr>\n",
       "      <th>72</th>\n",
       "      <td>2.301167</td>\n",
       "      <td>0.112367</td>\n",
       "      <td>2.301041</td>\n",
       "      <td>0.1135</td>\n",
       "      <td>22</td>\n",
       "      <td>512_</td>\n",
       "    </tr>\n",
       "    <tr>\n",
       "      <th>73</th>\n",
       "      <td>2.301166</td>\n",
       "      <td>0.112367</td>\n",
       "      <td>2.301032</td>\n",
       "      <td>0.1135</td>\n",
       "      <td>23</td>\n",
       "      <td>512_</td>\n",
       "    </tr>\n",
       "    <tr>\n",
       "      <th>74</th>\n",
       "      <td>2.301164</td>\n",
       "      <td>0.112367</td>\n",
       "      <td>2.301029</td>\n",
       "      <td>0.1135</td>\n",
       "      <td>24</td>\n",
       "      <td>512_</td>\n",
       "    </tr>\n",
       "  </tbody>\n",
       "</table>\n",
       "<p>75 rows × 6 columns</p>\n",
       "</div>"
      ],
      "text/plain": [
       "        loss  accuracy  val_loss  val_accuracy  epoch Batch Size\n",
       "0   2.047978  0.200883  1.907864        0.2163      0        32_\n",
       "1   1.864856  0.247217  1.835067        0.2706      1        32_\n",
       "2   1.804099  0.283033  1.782820        0.2964      2        32_\n",
       "3   1.759385  0.312283  1.744332        0.3271      3        32_\n",
       "4   1.717764  0.323017  1.708817        0.3295      4        32_\n",
       "..       ...       ...       ...           ...    ...        ...\n",
       "70  2.301172  0.112367  2.301051        0.1135     20       512_\n",
       "71  2.301170  0.112367  2.301045        0.1135     21       512_\n",
       "72  2.301167  0.112367  2.301041        0.1135     22       512_\n",
       "73  2.301166  0.112367  2.301032        0.1135     23       512_\n",
       "74  2.301164  0.112367  2.301029        0.1135     24       512_\n",
       "\n",
       "[75 rows x 6 columns]"
      ]
     },
     "execution_count": 56,
     "metadata": {},
     "output_type": "execute_result"
    }
   ],
   "source": [
    "import seaborn as sns\n",
    "import pandas as pd\n",
    "\n",
    "batch_sizes = []\n",
    "for exp, result in zip([bt_default, bt_small, bt_large], ['32_', '8_', '512_']):\n",
    "    df = pd.DataFrame.from_dict(exp.history)\n",
    "    df['epoch'] = df.index.values\n",
    "    df['Batch Size'] = result\n",
    "    batch_sizes.append(df)\n",
    "df = pd.concat(batch_sizes)\n",
    "df['Batch Size'] = df['Batch Size'].astype('str')\n",
    "df.reset_index(drop=True, inplace=True)\n",
    "df.shape\n",
    "df"
   ]
  },
  {
   "cell_type": "code",
   "execution_count": 57,
   "id": "6fd13349-19d3-45aa-b571-20d922660282",
   "metadata": {},
   "outputs": [
    {
     "data": {
      "image/png": "[encoded data removed]",
      "text/plain": [
       "<Figure size 432x288 with 1 Axes>"
      ]
     },
     "metadata": {
      "needs_background": "light"
     },
     "output_type": "display_data"
    }
   ],
   "source": [
    "sns.lineplot(x='epoch', y='val_accuracy', hue='Batch Size', data=df);"
   ]
  },
  {
   "cell_type": "code",
   "execution_count": 58,
   "id": "3db1fde8-13f4-4b84-a16c-e985f1767514",
   "metadata": {},
   "outputs": [
    {
     "data": {
      "image/png": "[encoded data removed]",
      "text/plain": [
       "<Figure size 432x288 with 1 Axes>"
      ]
     },
     "metadata": {
      "needs_background": "light"
     },
     "output_type": "display_data"
    }
   ],
   "source": [
    "sns.lineplot(x='epoch', y='val_loss', hue='Batch Size', data=df);"
   ]
  },
  {
   "cell_type": "markdown",
   "id": "5f75ab40-534f-425c-bd44-18dc005f7a6b",
   "metadata": {},
   "source": [
    "## learning rate"
   ]
  },
  {
   "cell_type": "code",
   "execution_count": 61,
   "id": "bf07f5d7-b059-4ab6-88ea-9892a249d615",
   "metadata": {},
   "outputs": [
    {
     "name": "stdout",
     "output_type": "stream",
     "text": [
      "Epoch 1/25\n",
      "1875/1875 [==============================] - 2s 752us/step - loss: 2.1896 - accuracy: 0.1838 - val_loss: 2.0584 - val_accuracy: 0.2301\n",
      "Epoch 2/25\n",
      "1875/1875 [==============================] - 1s 720us/step - loss: 1.9858 - accuracy: 0.2368 - val_loss: 1.8988 - val_accuracy: 0.2506\n",
      "Epoch 3/25\n",
      "1875/1875 [==============================] - 1s 717us/step - loss: 1.8159 - accuracy: 0.2792 - val_loss: 1.7556 - val_accuracy: 0.2888\n",
      "Epoch 4/25\n",
      "1875/1875 [==============================] - 1s 680us/step - loss: 1.7198 - accuracy: 0.2932 - val_loss: 1.6983 - val_accuracy: 0.2899\n",
      "Epoch 5/25\n",
      "1875/1875 [==============================] - 1s 699us/step - loss: 1.6766 - accuracy: 0.2970 - val_loss: 1.6662 - val_accuracy: 0.2967\n",
      "Epoch 6/25\n",
      "1875/1875 [==============================] - 1s 711us/step - loss: 1.6532 - accuracy: 0.3002 - val_loss: 1.6522 - val_accuracy: 0.3089\n",
      "Epoch 7/25\n",
      "1875/1875 [==============================] - 1s 724us/step - loss: 1.6387 - accuracy: 0.3054 - val_loss: 1.6360 - val_accuracy: 0.3097\n",
      "Epoch 8/25\n",
      "1875/1875 [==============================] - 1s 727us/step - loss: 1.6286 - accuracy: 0.3088 - val_loss: 1.6308 - val_accuracy: 0.3106\n",
      "Epoch 9/25\n",
      "1875/1875 [==============================] - 1s 729us/step - loss: 1.6206 - accuracy: 0.3122 - val_loss: 1.6268 - val_accuracy: 0.3086\n",
      "Epoch 10/25\n",
      "1875/1875 [==============================] - 1s 703us/step - loss: 1.6111 - accuracy: 0.3180 - val_loss: 1.6123 - val_accuracy: 0.3820\n",
      "Epoch 11/25\n",
      "1875/1875 [==============================] - 1s 712us/step - loss: 1.5864 - accuracy: 0.3836 - val_loss: 1.5783 - val_accuracy: 0.3969\n",
      "Epoch 12/25\n",
      "1875/1875 [==============================] - 1s 694us/step - loss: 1.5554 - accuracy: 0.3815 - val_loss: 1.5447 - val_accuracy: 0.3940\n",
      "Epoch 13/25\n",
      "1875/1875 [==============================] - 1s 691us/step - loss: 1.5302 - accuracy: 0.3830 - val_loss: 1.5248 - val_accuracy: 0.3879\n",
      "Epoch 14/25\n",
      "1875/1875 [==============================] - 1s 713us/step - loss: 1.5134 - accuracy: 0.3841 - val_loss: 1.5209 - val_accuracy: 0.3751\n",
      "Epoch 15/25\n",
      "1875/1875 [==============================] - 1s 705us/step - loss: 1.5020 - accuracy: 0.3850 - val_loss: 1.5036 - val_accuracy: 0.3837\n",
      "Epoch 16/25\n",
      "1875/1875 [==============================] - 1s 700us/step - loss: 1.4933 - accuracy: 0.3862 - val_loss: 1.4957 - val_accuracy: 0.3855\n",
      "Epoch 17/25\n",
      "1875/1875 [==============================] - 1s 693us/step - loss: 1.4875 - accuracy: 0.3870 - val_loss: 1.4878 - val_accuracy: 0.3911\n",
      "Epoch 18/25\n",
      "1875/1875 [==============================] - 1s 678us/step - loss: 1.4841 - accuracy: 0.3891 - val_loss: 1.4901 - val_accuracy: 0.3938\n",
      "Epoch 19/25\n",
      "1875/1875 [==============================] - 1s 683us/step - loss: 1.4810 - accuracy: 0.3887 - val_loss: 1.4824 - val_accuracy: 0.3863\n",
      "Epoch 20/25\n",
      "1875/1875 [==============================] - 1s 682us/step - loss: 1.4777 - accuracy: 0.3902 - val_loss: 1.4814 - val_accuracy: 0.4017\n",
      "Epoch 21/25\n",
      "1875/1875 [==============================] - 1s 703us/step - loss: 1.4759 - accuracy: 0.3914 - val_loss: 1.4738 - val_accuracy: 0.3943\n",
      "Epoch 22/25\n",
      "1875/1875 [==============================] - 1s 691us/step - loss: 1.4737 - accuracy: 0.3925 - val_loss: 1.4750 - val_accuracy: 0.3956\n",
      "Epoch 23/25\n",
      "1875/1875 [==============================] - 1s 690us/step - loss: 1.4725 - accuracy: 0.3913 - val_loss: 1.4695 - val_accuracy: 0.3979\n",
      "Epoch 24/25\n",
      "1875/1875 [==============================] - 1s 691us/step - loss: 1.4716 - accuracy: 0.3920 - val_loss: 1.4714 - val_accuracy: 0.3945\n",
      "Epoch 25/25\n",
      "1875/1875 [==============================] - 1s 685us/step - loss: 1.4705 - accuracy: 0.3932 - val_loss: 1.4818 - val_accuracy: 0.4008\n"
     ]
    }
   ],
   "source": [
    "lr_default = create_model().fit(X_train, y_train, epochs=25, validation_data=(X_test,y_test))"
   ]
  },
  {
   "cell_type": "code",
   "execution_count": 62,
   "id": "63db0663-1aa2-4994-80ac-6b2b502aa4eb",
   "metadata": {},
   "outputs": [
    {
     "name": "stdout",
     "output_type": "stream",
     "text": [
      "Epoch 1/25\n",
      "1875/1875 [==============================] - 2s 740us/step - loss: 2.2592 - accuracy: 0.1261 - val_loss: 2.3116 - val_accuracy: 0.1009\n",
      "Epoch 2/25\n",
      "1875/1875 [==============================] - 1s 700us/step - loss: 2.3066 - accuracy: 0.1048 - val_loss: 2.3067 - val_accuracy: 0.0980\n",
      "Epoch 3/25\n",
      "1875/1875 [==============================] - 1s 721us/step - loss: 2.3066 - accuracy: 0.1057 - val_loss: 2.3032 - val_accuracy: 0.1028\n",
      "Epoch 4/25\n",
      "1875/1875 [==============================] - 1s 677us/step - loss: 2.3066 - accuracy: 0.1046 - val_loss: 2.3086 - val_accuracy: 0.1135\n",
      "Epoch 5/25\n",
      "1875/1875 [==============================] - 1s 684us/step - loss: 2.3065 - accuracy: 0.1038 - val_loss: 2.3065 - val_accuracy: 0.1135\n",
      "Epoch 6/25\n",
      "1875/1875 [==============================] - 1s 674us/step - loss: 2.3067 - accuracy: 0.1040 - val_loss: 2.3089 - val_accuracy: 0.1009\n",
      "Epoch 7/25\n",
      "1875/1875 [==============================] - 1s 684us/step - loss: 2.3069 - accuracy: 0.1060 - val_loss: 2.3080 - val_accuracy: 0.1135\n",
      "Epoch 8/25\n",
      "1875/1875 [==============================] - 1s 674us/step - loss: 2.3068 - accuracy: 0.1038 - val_loss: 2.3071 - val_accuracy: 0.1135\n",
      "Epoch 9/25\n",
      "1875/1875 [==============================] - 1s 691us/step - loss: 2.3065 - accuracy: 0.1054 - val_loss: 2.3044 - val_accuracy: 0.1009\n",
      "Epoch 10/25\n",
      "1875/1875 [==============================] - 1s 685us/step - loss: 2.3065 - accuracy: 0.1046 - val_loss: 2.3058 - val_accuracy: 0.0958\n",
      "Epoch 11/25\n",
      "1875/1875 [==============================] - 1s 715us/step - loss: 2.3064 - accuracy: 0.1053 - val_loss: 2.3136 - val_accuracy: 0.1010\n",
      "Epoch 12/25\n",
      "1875/1875 [==============================] - 1s 704us/step - loss: 2.3066 - accuracy: 0.1062 - val_loss: 2.3032 - val_accuracy: 0.0958\n",
      "Epoch 13/25\n",
      "1875/1875 [==============================] - 1s 690us/step - loss: 2.3068 - accuracy: 0.1047 - val_loss: 2.3055 - val_accuracy: 0.1135\n",
      "Epoch 14/25\n",
      "1875/1875 [==============================] - 1s 691us/step - loss: 2.3070 - accuracy: 0.1048 - val_loss: 2.3065 - val_accuracy: 0.1135\n",
      "Epoch 15/25\n",
      "1875/1875 [==============================] - 1s 703us/step - loss: 2.3071 - accuracy: 0.1027 - val_loss: 2.3055 - val_accuracy: 0.1135\n",
      "Epoch 16/25\n",
      "1875/1875 [==============================] - 1s 688us/step - loss: 2.3069 - accuracy: 0.1024 - val_loss: 2.3041 - val_accuracy: 0.1010\n",
      "Epoch 17/25\n",
      "1875/1875 [==============================] - 1s 683us/step - loss: 2.3067 - accuracy: 0.1040 - val_loss: 2.3047 - val_accuracy: 0.1028\n",
      "Epoch 18/25\n",
      "1875/1875 [==============================] - 1s 681us/step - loss: 2.3066 - accuracy: 0.1062 - val_loss: 2.3071 - val_accuracy: 0.1010\n",
      "Epoch 19/25\n",
      "1875/1875 [==============================] - 1s 684us/step - loss: 2.3069 - accuracy: 0.1052 - val_loss: 2.3086 - val_accuracy: 0.1028\n",
      "Epoch 20/25\n",
      "1875/1875 [==============================] - 1s 675us/step - loss: 2.3069 - accuracy: 0.1023 - val_loss: 2.3071 - val_accuracy: 0.1135\n",
      "Epoch 21/25\n",
      "1875/1875 [==============================] - 1s 689us/step - loss: 2.3069 - accuracy: 0.1038 - val_loss: 2.3047 - val_accuracy: 0.1028\n",
      "Epoch 22/25\n",
      "1875/1875 [==============================] - 1s 687us/step - loss: 2.3068 - accuracy: 0.1046 - val_loss: 2.3032 - val_accuracy: 0.1135\n",
      "Epoch 23/25\n",
      "1875/1875 [==============================] - 1s 685us/step - loss: 2.3069 - accuracy: 0.1047 - val_loss: 2.3077 - val_accuracy: 0.1135\n",
      "Epoch 24/25\n",
      "1875/1875 [==============================] - 1s 681us/step - loss: 2.3062 - accuracy: 0.1031 - val_loss: 2.3095 - val_accuracy: 0.0974\n",
      "Epoch 25/25\n",
      "1875/1875 [==============================] - 1s 686us/step - loss: 2.3067 - accuracy: 0.1042 - val_loss: 2.3042 - val_accuracy: 0.1135\n"
     ]
    }
   ],
   "source": [
    "lr_high = create_model(lr=.75).fit(X_train, y_train, epochs=25, validation_data=(X_test,y_test))"
   ]
  },
  {
   "cell_type": "code",
   "execution_count": 63,
   "id": "625a7671-f99c-4610-b3b0-2615a96d2a70",
   "metadata": {},
   "outputs": [
    {
     "name": "stdout",
     "output_type": "stream",
     "text": [
      "Epoch 1/25\n",
      "1875/1875 [==============================] - 2s 754us/step - loss: 2.3041 - accuracy: 0.0892 - val_loss: 2.3019 - val_accuracy: 0.0857\n",
      "Epoch 2/25\n",
      "1875/1875 [==============================] - 1s 686us/step - loss: 2.3006 - accuracy: 0.0890 - val_loss: 2.2983 - val_accuracy: 0.0890\n",
      "Epoch 3/25\n",
      "1875/1875 [==============================] - 1s 685us/step - loss: 2.2970 - accuracy: 0.0929 - val_loss: 2.2944 - val_accuracy: 0.0929\n",
      "Epoch 4/25\n",
      "1875/1875 [==============================] - 1s 744us/step - loss: 2.2931 - accuracy: 0.0977 - val_loss: 2.2901 - val_accuracy: 0.0977\n",
      "Epoch 5/25\n",
      "1875/1875 [==============================] - 1s 691us/step - loss: 2.2887 - accuracy: 0.1023 - val_loss: 2.2854 - val_accuracy: 0.1026\n",
      "Epoch 6/25\n",
      "1875/1875 [==============================] - 1s 685us/step - loss: 2.2840 - accuracy: 0.1053 - val_loss: 2.2804 - val_accuracy: 0.1054\n",
      "Epoch 7/25\n",
      "1875/1875 [==============================] - 1s 676us/step - loss: 2.2788 - accuracy: 0.1080 - val_loss: 2.2749 - val_accuracy: 0.1063\n",
      "Epoch 8/25\n",
      "1875/1875 [==============================] - 1s 721us/step - loss: 2.2733 - accuracy: 0.1100 - val_loss: 2.2691 - val_accuracy: 0.1064\n",
      "Epoch 9/25\n",
      "1875/1875 [==============================] - 1s 709us/step - loss: 2.2672 - accuracy: 0.1112 - val_loss: 2.2628 - val_accuracy: 0.1072\n",
      "Epoch 10/25\n",
      "1875/1875 [==============================] - 1s 687us/step - loss: 2.2608 - accuracy: 0.1284 - val_loss: 2.2560 - val_accuracy: 0.1513\n",
      "Epoch 11/25\n",
      "1875/1875 [==============================] - 1s 683us/step - loss: 2.2538 - accuracy: 0.1582 - val_loss: 2.2488 - val_accuracy: 0.1554\n",
      "Epoch 12/25\n",
      "1875/1875 [==============================] - 1s 696us/step - loss: 2.2463 - accuracy: 0.1626 - val_loss: 2.2411 - val_accuracy: 0.1582\n",
      "Epoch 13/25\n",
      "1875/1875 [==============================] - 1s 687us/step - loss: 2.2384 - accuracy: 0.1672 - val_loss: 2.2330 - val_accuracy: 0.1639\n",
      "Epoch 14/25\n",
      "1875/1875 [==============================] - 1s 699us/step - loss: 2.2300 - accuracy: 0.1714 - val_loss: 2.2245 - val_accuracy: 0.1671\n",
      "Epoch 15/25\n",
      "1875/1875 [==============================] - 1s 706us/step - loss: 2.2212 - accuracy: 0.1747 - val_loss: 2.2157 - val_accuracy: 0.1709\n",
      "Epoch 16/25\n",
      "1875/1875 [==============================] - 1s 684us/step - loss: 2.2122 - accuracy: 0.1776 - val_loss: 2.2067 - val_accuracy: 0.1737\n",
      "Epoch 17/25\n",
      "1875/1875 [==============================] - 1s 675us/step - loss: 2.2029 - accuracy: 0.1807 - val_loss: 2.1975 - val_accuracy: 0.1766\n",
      "Epoch 18/25\n",
      "1875/1875 [==============================] - 1s 671us/step - loss: 2.1936 - accuracy: 0.1833 - val_loss: 2.1883 - val_accuracy: 0.1790\n",
      "Epoch 19/25\n",
      "1875/1875 [==============================] - 1s 685us/step - loss: 2.1842 - accuracy: 0.1856 - val_loss: 2.1792 - val_accuracy: 0.1799\n",
      "Epoch 20/25\n",
      "1875/1875 [==============================] - 1s 696us/step - loss: 2.1750 - accuracy: 0.1873 - val_loss: 2.1702 - val_accuracy: 0.1808\n",
      "Epoch 21/25\n",
      "1875/1875 [==============================] - 1s 680us/step - loss: 2.1658 - accuracy: 0.1893 - val_loss: 2.1613 - val_accuracy: 0.1821\n",
      "Epoch 22/25\n",
      "1875/1875 [==============================] - 1s 686us/step - loss: 2.1569 - accuracy: 0.1903 - val_loss: 2.1526 - val_accuracy: 0.1836\n",
      "Epoch 23/25\n",
      "1875/1875 [==============================] - 1s 682us/step - loss: 2.1481 - accuracy: 0.1915 - val_loss: 2.1442 - val_accuracy: 0.1851\n",
      "Epoch 24/25\n",
      "1875/1875 [==============================] - 1s 678us/step - loss: 2.1396 - accuracy: 0.1928 - val_loss: 2.1359 - val_accuracy: 0.1860\n",
      "Epoch 25/25\n",
      "1875/1875 [==============================] - 1s 694us/step - loss: 2.1314 - accuracy: 0.1940 - val_loss: 2.1280 - val_accuracy: 0.1871\n"
     ]
    }
   ],
   "source": [
    "lr_low = create_model(lr=.0001).fit(X_train, y_train, epochs=25, validation_data=(X_test,y_test))"
   ]
  },
  {
   "cell_type": "code",
   "execution_count": 65,
   "id": "3e225e13-e20b-4e7a-b8b2-0b9253bcdc93",
   "metadata": {},
   "outputs": [
    {
     "data": {
      "text/html": [
       "<div>\n",
       "<style scoped>\n",
       "    .dataframe tbody tr th:only-of-type {\n",
       "        vertical-align: middle;\n",
       "    }\n",
       "\n",
       "    .dataframe tbody tr th {\n",
       "        vertical-align: top;\n",
       "    }\n",
       "\n",
       "    .dataframe thead th {\n",
       "        text-align: right;\n",
       "    }\n",
       "</style>\n",
       "<table border=\"1\" class=\"dataframe\">\n",
       "  <thead>\n",
       "    <tr style=\"text-align: right;\">\n",
       "      <th></th>\n",
       "      <th>loss</th>\n",
       "      <th>accuracy</th>\n",
       "      <th>val_loss</th>\n",
       "      <th>val_accuracy</th>\n",
       "      <th>epoch</th>\n",
       "      <th>Learning Rate</th>\n",
       "    </tr>\n",
       "  </thead>\n",
       "  <tbody>\n",
       "    <tr>\n",
       "      <th>0</th>\n",
       "      <td>2.189637</td>\n",
       "      <td>0.183767</td>\n",
       "      <td>2.058404</td>\n",
       "      <td>0.2301</td>\n",
       "      <td>0</td>\n",
       "      <td>.01_</td>\n",
       "    </tr>\n",
       "    <tr>\n",
       "      <th>1</th>\n",
       "      <td>1.985781</td>\n",
       "      <td>0.236767</td>\n",
       "      <td>1.898825</td>\n",
       "      <td>0.2506</td>\n",
       "      <td>1</td>\n",
       "      <td>.01_</td>\n",
       "    </tr>\n",
       "    <tr>\n",
       "      <th>2</th>\n",
       "      <td>1.815940</td>\n",
       "      <td>0.279183</td>\n",
       "      <td>1.755566</td>\n",
       "      <td>0.2888</td>\n",
       "      <td>2</td>\n",
       "      <td>.01_</td>\n",
       "    </tr>\n",
       "    <tr>\n",
       "      <th>3</th>\n",
       "      <td>1.719844</td>\n",
       "      <td>0.293150</td>\n",
       "      <td>1.698295</td>\n",
       "      <td>0.2899</td>\n",
       "      <td>3</td>\n",
       "      <td>.01_</td>\n",
       "    </tr>\n",
       "    <tr>\n",
       "      <th>4</th>\n",
       "      <td>1.676646</td>\n",
       "      <td>0.296983</td>\n",
       "      <td>1.666174</td>\n",
       "      <td>0.2967</td>\n",
       "      <td>4</td>\n",
       "      <td>.01_</td>\n",
       "    </tr>\n",
       "    <tr>\n",
       "      <th>...</th>\n",
       "      <td>...</td>\n",
       "      <td>...</td>\n",
       "      <td>...</td>\n",
       "      <td>...</td>\n",
       "      <td>...</td>\n",
       "      <td>...</td>\n",
       "    </tr>\n",
       "    <tr>\n",
       "      <th>70</th>\n",
       "      <td>2.306912</td>\n",
       "      <td>0.103783</td>\n",
       "      <td>2.304743</td>\n",
       "      <td>0.1028</td>\n",
       "      <td>20</td>\n",
       "      <td>.75_</td>\n",
       "    </tr>\n",
       "    <tr>\n",
       "      <th>71</th>\n",
       "      <td>2.306759</td>\n",
       "      <td>0.104650</td>\n",
       "      <td>2.303151</td>\n",
       "      <td>0.1135</td>\n",
       "      <td>21</td>\n",
       "      <td>.75_</td>\n",
       "    </tr>\n",
       "    <tr>\n",
       "      <th>72</th>\n",
       "      <td>2.306914</td>\n",
       "      <td>0.104700</td>\n",
       "      <td>2.307668</td>\n",
       "      <td>0.1135</td>\n",
       "      <td>22</td>\n",
       "      <td>.75_</td>\n",
       "    </tr>\n",
       "    <tr>\n",
       "      <th>73</th>\n",
       "      <td>2.306241</td>\n",
       "      <td>0.103133</td>\n",
       "      <td>2.309517</td>\n",
       "      <td>0.0974</td>\n",
       "      <td>23</td>\n",
       "      <td>.75_</td>\n",
       "    </tr>\n",
       "    <tr>\n",
       "      <th>74</th>\n",
       "      <td>2.306652</td>\n",
       "      <td>0.104217</td>\n",
       "      <td>2.304235</td>\n",
       "      <td>0.1135</td>\n",
       "      <td>24</td>\n",
       "      <td>.75_</td>\n",
       "    </tr>\n",
       "  </tbody>\n",
       "</table>\n",
       "<p>75 rows × 6 columns</p>\n",
       "</div>"
      ],
      "text/plain": [
       "        loss  accuracy  val_loss  val_accuracy  epoch Learning Rate\n",
       "0   2.189637  0.183767  2.058404        0.2301      0          .01_\n",
       "1   1.985781  0.236767  1.898825        0.2506      1          .01_\n",
       "2   1.815940  0.279183  1.755566        0.2888      2          .01_\n",
       "3   1.719844  0.293150  1.698295        0.2899      3          .01_\n",
       "4   1.676646  0.296983  1.666174        0.2967      4          .01_\n",
       "..       ...       ...       ...           ...    ...           ...\n",
       "70  2.306912  0.103783  2.304743        0.1028     20          .75_\n",
       "71  2.306759  0.104650  2.303151        0.1135     21          .75_\n",
       "72  2.306914  0.104700  2.307668        0.1135     22          .75_\n",
       "73  2.306241  0.103133  2.309517        0.0974     23          .75_\n",
       "74  2.306652  0.104217  2.304235        0.1135     24          .75_\n",
       "\n",
       "[75 rows x 6 columns]"
      ]
     },
     "execution_count": 65,
     "metadata": {},
     "output_type": "execute_result"
    }
   ],
   "source": [
    "learning_rate = []\n",
    "for exp, result in zip([lr_default, lr_low, lr_high], ['.01_', '.0001_', '.75_']):\n",
    "    df = pd.DataFrame.from_dict(exp.history)\n",
    "    df['epoch'] = df.index.values\n",
    "    df['Learning Rate'] = result\n",
    "    learning_rate.append(df)\n",
    "df = pd.concat(learning_rate)\n",
    "df['Learning Rate'] = df['Learning Rate'].astype('str')\n",
    "df.reset_index(drop=True, inplace=True)\n",
    "df.shape\n",
    "df"
   ]
  },
  {
   "cell_type": "code",
   "execution_count": 66,
   "id": "42d93b3b-6a1a-4b1c-a6f8-8f74874cd7cf",
   "metadata": {},
   "outputs": [
    {
     "data": {
      "image/png": "[encoded data removed]",
      "text/plain": [
       "<Figure size 432x288 with 1 Axes>"
      ]
     },
     "metadata": {
      "needs_background": "light"
     },
     "output_type": "display_data"
    }
   ],
   "source": [
    "sns.lineplot(x='epoch', y='val_accuracy', hue='Learning Rate', data=df);"
   ]
  },
  {
   "cell_type": "code",
   "execution_count": 68,
   "id": "82fb75c6-7ea9-4691-870c-c6c7efcd2043",
   "metadata": {},
   "outputs": [
    {
     "data": {
      "image/png": "[encoded data removed]",
      "text/plain": [
       "<Figure size 432x288 with 1 Axes>"
      ]
     },
     "metadata": {
      "needs_background": "light"
     },
     "output_type": "display_data"
    }
   ],
   "source": [
    "sns.lineplot(x='epoch', y='val_loss', hue='Learning Rate', data=df);"
   ]
  },
  {
   "cell_type": "code",
   "execution_count": 73,
   "id": "e3b59696-4227-412c-b4b5-3dffb797b90a",
   "metadata": {},
   "outputs": [
    {
     "data": {
      "image/png": "[encoded data removed]",
      "text/plain": [
       "<Figure size 432x288 with 1 Axes>"
      ]
     },
     "metadata": {
      "needs_background": "light"
     },
     "output_type": "display_data"
    }
   ],
   "source": [
    "sns.lineplot(x='epoch', y='val_loss', data=df[df['Learning Rate']=='.01_'], label='test_loss')\n",
    "sns.lineplot(x='epoch', y='loss', data=df[df['Learning Rate']=='.01_'], label='train_loss');"
   ]
  },
  {
   "cell_type": "code",
   "execution_count": 75,
   "id": "fcad30c2-3385-4de1-a033-2797052be87a",
   "metadata": {},
   "outputs": [
    {
     "data": {
      "text/plain": [
       "<AxesSubplot:xlabel='epoch', ylabel='val_accuracy'>"
      ]
     },
     "execution_count": 75,
     "metadata": {},
     "output_type": "execute_result"
    },
    {
     "data": {
      "image/png": "[encoded data removed]",
      "text/plain": [
       "<Figure size 432x288 with 1 Axes>"
      ]
     },
     "metadata": {
      "needs_background": "light"
     },
     "output_type": "display_data"
    }
   ],
   "source": [
    "sns.lineplot(x='epoch', y='val_accuracy', data=df[df['Learning Rate']=='.01_'], label='test_accuracy')\n",
    "sns.lineplot(x='epoch', y='accuracy', data=df[df['Learning Rate']=='.01_'], label='train_accuracy')"
   ]
  },
  {
   "cell_type": "code",
   "execution_count": null,
   "id": "73f14e96-b95f-49b9-8179-667c57645de2",
   "metadata": {},
   "outputs": [],
   "source": []
  }
 ],
 "metadata": {
  "kernelspec": {
   "display_name": "Python 3 (ipykernel)",
   "language": "python",
   "name": "python3"
  },
  "language_info": {
   "codemirror_mode": {
    "name": "ipython",
    "version": 3
   },
   "file_extension": ".py",
   "mimetype": "text/x-python",
   "name": "python",
   "nbconvert_exporter": "python",
   "pygments_lexer": "ipython3",
   "version": "3.8.12"
  }
 },
 "nbformat": 4,
 "nbformat_minor": 5
}
