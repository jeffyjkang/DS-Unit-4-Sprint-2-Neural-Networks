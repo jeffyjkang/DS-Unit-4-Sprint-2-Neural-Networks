{
 "cells": [
  {
   "cell_type": "markdown",
   "metadata": {
    "id": "aS4GZ37Wgcjr"
   },
   "source": [
    "*Unit 4, Sprint 2, Module 2*\n",
    "\n",
    "---"
   ]
  },
  {
   "cell_type": "markdown",
   "metadata": {
    "id": "etFf1WLWgcjt",
    "toc-hr-collapsed": false
   },
   "source": [
    "# Train (Prepare)\n",
    "__*Neural Network Foundations*__"
   ]
  },
  {
   "cell_type": "markdown",
   "metadata": {
    "id": "hXB80QOhgcju"
   },
   "source": [
    "## Learning Objectives\n",
    "* <a href=\"#p1\">Part 1</a>: Student should be able to explain the intuition behind backpropagation and gradient descent\n",
    "* <a href=\"#p2\">Part 2</a>: Student should be able to discuss the importance of the batch size hyperparameter\n",
    "* <a href=\"#p3\">Part 3</a>: Student should be able to discuss the importance of the learning rate hyperparameter"
   ]
  },
  {
   "cell_type": "markdown",
   "metadata": {
    "id": "8YuQu2lfgcju"
   },
   "source": [
    "## Summary of Module 1\n",
    "\n",
    "In Module 1, we learned about Neural Networks and related concepts: Neurons, Weights, Activation Functions, and Layers (input, output, & hidden). Today, we will reinforce our understanding, and learn how a neural network is trained. **Feed-forward neural networks**, such as multi-layer perceptrons (MLPs), are almost always trained using some variation of **gradient descent** where gradients has been calculated by **back-propagation**.\n",
    "\n",
    "  <center><img src=\"https://raw.githubusercontent.com/LambdaSchool/DS-Unit-4-Sprint-2-Neural-Networks/main/module1-Architect/IMG_0167.jpeg\" width=400></center>\n",
    "\n",
    "- There are three kinds of layers: **input**, **hidden**, and **output**\n",
    "- Hiddent and output layers are made up of individual neurons (aka activation units) which have a corresponding weight and bias.\n",
    "- Information is passed from layer to layer through a network by:\n",
    " - Taking in inputs from the training data (or previous layer)\n",
    " - Multiplying each input by its corresponding weight (represented by arrows) and adding these products to form a weighted sum\n",
    " - Adding a bias (also represented by arrows)\n",
    " - Activating this weighted sum plus the bias term by \"squishifying\" it with a sigmoid or some other activation function <br>\n",
    " For a `perceptron` with three inputs and a sigmoid activation function, the output is calculated as follows: <br><br>\n",
    "\\begin{align}\n",
    " y = \\text{sigmoid} \\left(weight_{1}\\times input_{1} + weight_{2} \\times input_{2} + weight_{3} \\times input_{3} + bias\\right)\n",
    "\\end{align} <br><br>\n",
    " - This \"activated\" neuron output $y$ is the signal that gets passed into the next layer of the network\n",
    " - the \"activated\" neuron output of the output layer is the prediction\n",
    " "
   ]
  },
  {
   "cell_type": "markdown",
   "metadata": {
    "id": "bpi4R03rgcjv"
   },
   "source": [
    "## Training a Neural Network for Classification: *Formal Summary*\n",
    "\n",
    "1. Choose a network architecture\n",
    "   - Number of input units = Number of features\n",
    "   - Number of output units = Number of Classes (or categories of expected targets)\n",
    "   - Select the number of hidden layers and the number of neurons within each hidden layer\n",
    "   - set the activation functions for each neuron\n",
    "2. Randomly initialize all the weights and biases\n",
    "3. Forward propagate the weights and biases through the network to compute the output predictions $\\hat y$\n",
    "4. Given the output predictions  $\\hat y$ and the true targets  $y$, compute the cost function $J(\\theta)$, where $\\theta$ is the set of values of all the weights and biases in the network.\n",
    "5. Perform **back-propagation**, which means computing partial derivatives (gradients) of the cost function with respect to the each of the weights and biases $\\frac{\\partial}{\\partial\\theta}{J(\\theta)}$\n",
    "6. Using the method of **gradient descent** (or other advanced optimizer), adjust the weights and biases so as to decrease the cost function $J(\\theta)$.\n",
    "7. Repeat steps 3 - 6 until the cost function is 'minimized' or some other stopping criteria is met. One pass over steps 3 - 6 is called an iteration.\n",
    "\n",
    "### Highly recommended: Check out this [Neural Networks mini-course from 3Blue1Brown](https://www.3blue1brown.com/topics/neural-networks)<br>\n",
    " \n",
    "\n"
   ]
  },
  {
   "cell_type": "markdown",
   "metadata": {
    "id": "aM4CK1IarId4",
    "toc-hr-collapsed": false
   },
   "source": [
    "------\n",
    "# 1. Backpropagation & Gradient Descent (Learn)\n",
    "<a id=\"p1\"></a>"
   ]
  },
  {
   "cell_type": "markdown",
   "metadata": {
    "id": "Ktm8Fmoagcjy",
    "toc-hr-collapsed": true
   },
   "source": [
    "## Overview\n",
    "\n",
    "Backpropagation is short for [\"Backwards Propagation of errors\"](https://en.wikipedia.org/wiki/Backpropagation) and refers to a specific algorithm using calculus to update the weights and biases in a neural network in reverse order, at the end of each training epoch. Our purpose today is to demonstrate the backpropagation algorithm on a simple Feedforward Neural Network and in so doing help you get a grasp on the main process. If you want to understand all of the underlying calculus of how the gradients are calculated then you'll need to dive into it yourself, watch [Backpropagation calculus ](https://www.youtube.com/watch?v=tIeHLnjs5U8) from 3Blue1Brown. Also highly recommended is this Welch Labs series [Neural Networks Demystified](https://www.youtube.com/watch?v=bxe2T-V8XRs) if you want a rapid yet orderly walk through of the main intuition and math behind the backpropagation algorithm. "
   ]
  },
  {
   "cell_type": "markdown",
   "metadata": {
    "id": "NXI2tEO9gcjy"
   },
   "source": [
    "## 1.1 What is a Gradient?\n",
    "\n",
    "> In vector calculus, the gradient is a multi-variable generalization of the derivative. \n",
    "\n",
    "The gradients that we will deal with today will be vector representations of the derivative of the activation function. "
   ]
  },
  {
   "cell_type": "markdown",
   "metadata": {
    "id": "n7SvE-6H9G4y"
   },
   "source": [
    "### 1.1.1 Review: Slope of a line \n",
    "\n",
    "![](https://www.mathwarehouse.com/algebra/linear_equation/images/slope-of-a-line/slope-formula-all_no_highlight.png)"
   ]
  },
  {
   "cell_type": "markdown",
   "metadata": {
    "id": "AGYuD9yI9G4z"
   },
   "source": [
    "### 1.1.2 Review: A basic derivative \n",
    "\n",
    "![](https://ginsyblog.files.wordpress.com/2017/02/derivativelimitdef.gif)"
   ]
  },
  {
   "cell_type": "markdown",
   "metadata": {
    "id": "gFs3TG5O9G4z"
   },
   "source": [
    "### 1.1.3 Gradients are multi-dimensional derivatives\n",
    "\n",
    "Each partial derivative can be considered as the component of a vector that lies on the axis of the associated parameter.  <br>\n",
    "Formally, the gradient is the vector sum of these partial derivative vectors.\n",
    "\n",
    "*The gradient of a function at a given point contains information about the magnitude <br>\n",
    "and direction of the sensitivity of the function to change in every parameter.*"
   ]
  },
  {
   "cell_type": "markdown",
   "metadata": {
    "id": "fVN-8elU9G40"
   },
   "source": [
    "##1.2. Gradient Descent Formula for updating neural network parameters\n",
    "\n",
    "Given the values of the current parameters (weights and biases), this formula prescribes how to update them in order to drive down the cost function, given their current values:\n",
    "\n",
    "$$ \\huge{\\theta_j = \\theta_j - \\alpha \\frac{\\partial J(\\theta)}{\\partial \\theta_j}}$$\n",
    "\n",
    "\n",
    "In this formula, \n",
    "- $\\Large{\\theta_j}$ refers to the vector of weights and biases for the $jth$ data point<br><br>\n",
    "- $\\Large{\\theta}$ refers to the combined set of weights and biases of all the data points<br><br>\n",
    "- $\\Large{J(\\theta)}$ represents the cost function, which is a measure of the error between the predicted target values and the true target values<br><br>\n",
    "- $\\Large{\\alpha}$ is the *learning rate*, a positive scalar hyper-parameter<br><br>\n",
    "- $\\Large{\\frac{\\partial J(\\theta)}{\\partial \\theta_j}}$ are the partial derivatives of the cost function, which measure its sensitivity to changes in the parameters $\\Large{\\theta_j}$<br><br>\n",
    "\n",
    "\n",
    "More sophisticated versions of gradient descent are discussed in the excellent article [**An overview of gradient descent optimization algorithms**](https://ruder.io/optimizing-gradient-descent/) by Sebastian Ruder.\n",
    "\n",
    "\n",
    "These versions all build on the Gradient Descent Formula presented above, so it's best to understand this before moving on to more sophisticated versions. <br>\n"
   ]
  },
  {
   "cell_type": "markdown",
   "metadata": {
    "id": "yQc8iy_u9G40"
   },
   "source": [
    "### 1.2.1 Geometry of Gradient Descent \n",
    "\n",
    "![](https://i.stack.imgur.com/yk1mk.png)"
   ]
  },
  {
   "cell_type": "markdown",
   "metadata": {
    "id": "QlPoxfuS9G41"
   },
   "source": [
    "### 1.2.2 Convex vs. Non-Convex Loss Functions\n",
    "\n",
    "Loss curves won't always have a single minimum point for gradient descent to converge towards. Sometimes there are multiple minimums. \n",
    "\n",
    "**Global Minimum:** The absolute minimum location of a curve (or surface). \n",
    "\n",
    "**Local Minimum:** The local minimum location of a curve (or surface). \n",
    "\n",
    "\n",
    "### In 3-Dimensions \n",
    "In Calculus, those ambiguous points that take on the form of both local minima and local maxima are known as [**saddle points**](https://en.wikipedia.org/wiki/Saddle_point). It's not necessary to dive into the mathematics, the key take away is that non-convex error curves (and surfaces) have this global/local minimum issue. \n",
    "\n",
    "![](https://www.oreilly.com/radar/wp-content/uploads/sites/3/2019/06/convex-non-convex-9c8cb9320d4b0392c5f67004e8832e85.jpg)\n",
    "\n",
    "\n",
    "**Take Away:** Sometimes the gradient descent algorithm converges but is actually trapped in a local minimum. \n",
    "\n",
    "There are at least 2 possible solutions to this problem: \n",
    "\n",
    "1) Try different approaches to randomly initalizing the model weights\n",
    "For this check out [Keras's docs on Weight Initializers](https://keras.io/api/layers/initializers/). Treat these weight initializers as just another hyper-parameter to include in your gridsearch. It's a good idea to get into the practice of including weight initializers in your gridsearches! \n",
    "\n",
    "\n",
    "2) Try non-gradient descent optimizers such as [Particle Swarm](https://en.wikipedia.org/wiki/Particle_swarm_optimization) or [Genetic Algorithms](https://en.wikipedia.org/wiki/Genetic_algorithm). Feel free to read up on these approaches but know that **you are not expected to know these approaches** and they are outside the scope of this course. "
   ]
  },
  {
   "cell_type": "markdown",
   "metadata": {
    "id": "UZY66kiUgcjz",
    "toc-hr-collapsed": true
   },
   "source": [
    "------\n",
    "## 1.3 Let's see how to implement Gradient Descent in Keras for a simple toy problem! (Follow Along)\n",
    "\n",
    "In this section, we will again build a simple neural network using base TensorFlow. <br>\n",
    "We'll train a __Feed Forward Neural Network__ to predict targets,<br> using the method of __Gradient Descent__ to adjust the neural network parameters.<br><br> This is the process of __Back-propagation__!"
   ]
  },
  {
   "cell_type": "markdown",
   "metadata": {
    "id": "4d4tzpwO6B47"
   },
   "source": [
    "### 1.3.1 Generate synthetic (fake) data for a simple linear regression problem involving a single neuron signal <br>\n",
    "$y = \\textbf{w} \\cdot \\textbf{x} + b + \\text{noise}$"
   ]
  },
  {
   "cell_type": "code",
   "execution_count": 1,
   "metadata": {
    "executionInfo": {
     "elapsed": 1578,
     "status": "ok",
     "timestamp": 1635873784004,
     "user": {
      "displayName": "Joseph catanzarite",
      "photoUrl": "https://lh3.googleusercontent.com/a-/AOh14GgmMRaw8NgoEDqzevEZ6b18iOYdEH9nWTZeaFBW=s64",
      "userId": "16649206137414945374"
     },
     "user_tz": 420
    },
    "id": "ERyVgeO_IWyV"
   },
   "outputs": [],
   "source": [
    "# plotting \n",
    "import matplotlib.pyplot as plt\n",
    "\n",
    "# dataset import\n",
    "from tensorflow.keras.datasets import mnist\n",
    "\n",
    "# tensorflow imports for building \n",
    "import tensorflow as tf\n",
    "from tensorflow.keras import Sequential\n",
    "from tensorflow.keras.layers import Dense\n",
    "from tensorflow.keras.optimizers import SGD\n",
    "%matplotlib inline"
   ]
  },
  {
   "cell_type": "code",
   "execution_count": 2,
   "metadata": {
    "executionInfo": {
     "elapsed": 3053,
     "status": "ok",
     "timestamp": 1635873824896,
     "user": {
      "displayName": "Joseph catanzarite",
      "photoUrl": "https://lh3.googleusercontent.com/a-/AOh14GgmMRaw8NgoEDqzevEZ6b18iOYdEH9nWTZeaFBW=s64",
      "userId": "16649206137414945374"
     },
     "user_tz": 420
    },
    "id": "_C6O65Q09G43",
    "nbgrader": {
     "grade": false,
     "grade_id": "cell-13ede96854baf6e5",
     "locked": false,
     "schema_version": 3,
     "solution": true,
     "task": false
    }
   },
   "outputs": [],
   "source": [
    "# Generate samples of a Linear Regression data model\n",
    "# y     =      w  *  x    +  b     + noise\n",
    "\n",
    "### BEGIN SOLUTION\n",
    "# Specify the model parameters: slope(weight) and intercept (bias)\n",
    "w_true = 3.5\n",
    "b_true = 50.0\n",
    "# Specify how many examples we want to generate\n",
    "n_examples = 1000\n",
    "\n",
    "# linear regression assumes normally distributed data, \n",
    "#    so we'll draw our input values (x) and noise values from Gaussian distributions \n",
    "x = tf.random.normal(shape=[n_examples])\n",
    "noise = tf.random.normal(shape=[n_examples])\n",
    "\n",
    "# Generate samples from the Linear Regression data model\n",
    "# y     =      w  *  x    +  b     + noise\n",
    "y_true = w_true * x + b_true + noise\n",
    "### END SOLUTION"
   ]
  },
  {
   "cell_type": "markdown",
   "metadata": {
    "id": "bCJesGEUgcj4"
   },
   "source": [
    "### 1.3.2 Loss Function\n",
    "The Mean Squared Error (MSE), is an appropriate loss function for a regression problem. We are trying to predict a continuous target.\n",
    "\n",
    "$$\\huge{\\text{MSE} = \\frac{1}{N}\\sum_{i=1}^{N} (y_i-\\hat{y}_i)^2}$$"
   ]
  },
  {
   "cell_type": "code",
   "execution_count": 3,
   "metadata": {
    "executionInfo": {
     "elapsed": 249,
     "status": "ok",
     "timestamp": 1635873871508,
     "user": {
      "displayName": "Joseph catanzarite",
      "photoUrl": "https://lh3.googleusercontent.com/a-/AOh14GgmMRaw8NgoEDqzevEZ6b18iOYdEH9nWTZeaFBW=s64",
      "userId": "16649206137414945374"
     },
     "user_tz": 420
    },
    "id": "kyITYhMS9G44"
   },
   "outputs": [],
   "source": [
    "def loss(target_y, predicted_y, model, reg_strength=0.0):\n",
    "    \"\"\"\n",
    "    Implements Mean Square Error (MSE) as the loss function\n",
    "    \"\"\"\n",
    "    return tf.reduce_mean(tf.square(target_y - predicted_y))"
   ]
  },
  {
   "cell_type": "markdown",
   "metadata": {
    "id": "bgTf6vTS69Sw"
   },
   "source": [
    "### 1.3.3 Neural Network Architecture\n",
    "Lets create a Neural Network class called `Model` to feed forward the input to a neural network composed of a single linear layer, with no activation function. Note: This is essentially a linear regression model whose coefficients are trained by gradient descent. In practice, gradient descent works on much more complex functions like the multi-layer networks we constructed in Module 1."
   ]
  },
  {
   "cell_type": "code",
   "execution_count": 5,
   "metadata": {
    "executionInfo": {
     "elapsed": 495,
     "status": "ok",
     "timestamp": 1635873930251,
     "user": {
      "displayName": "Joseph catanzarite",
      "photoUrl": "https://lh3.googleusercontent.com/a-/AOh14GgmMRaw8NgoEDqzevEZ6b18iOYdEH9nWTZeaFBW=s64",
      "userId": "16649206137414945374"
     },
     "user_tz": 420
    },
    "id": "RUI8VSR5zyBv"
   },
   "outputs": [],
   "source": [
    "class Model(object):\n",
    "\n",
    "    def __init__(self):\n",
    "        self.w = tf.Variable(8.0)\n",
    "        self.b = tf.Variable(40.0)\n",
    "\n",
    "    def __call__(self, x):\n",
    "        # returns w*x + b \n",
    "        return self.w * x + self.b\n",
    "\n",
    "# Instantiate the Model() class\n",
    "model = Model()\n",
    "\n",
    "# test the Model() class\n",
    "#    with parameters w = 8 and b = 40, our model is  y(x) = w*x + b = 8\n",
    "#    with input of x = 3, we expect y = 8*3 + 40 = 64\n",
    "\n",
    "assert model(3.0).numpy() == 64.0"
   ]
  },
  {
   "cell_type": "markdown",
   "metadata": {
    "id": "gbyT_FJ88IlK"
   },
   "source": [
    "### 1.3.4 Prediction with Initial Weights\n",
    "The weights in our model were initialized randomly, so of course our neural network's initial predictions are way off!"
   ]
  },
  {
   "cell_type": "code",
   "execution_count": 6,
   "metadata": {
    "colab": {
     "base_uri": "https://localhost:8080/",
     "height": 301
    },
    "executionInfo": {
     "elapsed": 573,
     "status": "ok",
     "timestamp": 1635873993300,
     "user": {
      "displayName": "Joseph catanzarite",
      "photoUrl": "https://lh3.googleusercontent.com/a-/AOh14GgmMRaw8NgoEDqzevEZ6b18iOYdEH9nWTZeaFBW=s64",
      "userId": "16649206137414945374"
     },
     "user_tz": 420
    },
    "id": "IreIDe6P8H0H",
    "outputId": "2525e8f3-2a6b-4bbf-bdb5-cccf272cf387"
   },
   "outputs": [
    {
     "name": "stdout",
     "output_type": "stream",
     "text": [
      "Current loss: 121.579933\n"
     ]
    },
    {
     "data": {
      "image/png": "[encoded data removed]",
      "text/plain": [
       "<Figure size 432x288 with 1 Axes>"
      ]
     },
     "metadata": {
      "needs_background": "light"
     },
     "output_type": "display_data"
    }
   ],
   "source": [
    "inputs = x\n",
    "outputs = y_true\n",
    "predictions = model(inputs)\n",
    "plt.scatter(inputs, outputs, c='b', label = \"data\")\n",
    "plt.plot(inputs, predictions, c='r', label = \"model predictions\")\n",
    "plt.xlabel('x',FontSize=14)\n",
    "plt.ylabel('y',FontSize=14)\n",
    "plt.legend()\n",
    "plt.grid();\n",
    "\n",
    "print('Current loss: %1.6f' % loss(predictions, outputs, model).numpy())"
   ]
  },
  {
   "cell_type": "markdown",
   "metadata": {
    "id": "16Ujj6vNYQyX",
    "toc-hr-collapsed": true
   },
   "source": [
    "### 1.3.5 Back-propagation\n",
    "Means iteratively updating the weights and bias based on the gradients of the loss function.<br>\n",
    "We'll write a helper function to train a model using Keras!\n"
   ]
  },
  {
   "cell_type": "code",
   "execution_count": 7,
   "metadata": {
    "executionInfo": {
     "elapsed": 374,
     "status": "ok",
     "timestamp": 1635874236219,
     "user": {
      "displayName": "Joseph catanzarite",
      "photoUrl": "https://lh3.googleusercontent.com/a-/AOh14GgmMRaw8NgoEDqzevEZ6b18iOYdEH9nWTZeaFBW=s64",
      "userId": "16649206137414945374"
     },
     "user_tz": 420
    },
    "id": "ZgaGD6YlHoid",
    "nbgrader": {
     "grade": false,
     "grade_id": "cell-100d1b1df12abe63",
     "locked": false,
     "schema_version": 3,
     "solution": true,
     "task": false
    }
   },
   "outputs": [],
   "source": [
    " # this train function updates w and b using partial derivative of the loss function w.r.t. w and b\n",
    " def train(model, inputs, outputs, learning_rate):\n",
    "    with tf.GradientTape() as tape: \n",
    "                  \n",
    "      # calculate the loss function value from our model's predictions\n",
    "      current_loss = loss(outputs, model(inputs), model)\n",
    "          \n",
    "      # calculate dw and db, the gradients of the loss function with respect to W and b \n",
    "      dw, db = tape.gradient(current_loss, [model.w, model.b]) \n",
    "      \n",
    "      # update the value of W by subtracting (learning rate) * (gradient of the loss function wrt W) from its current value\n",
    "      model.w.assign_sub(learning_rate * dw)\n",
    "      \n",
    "      # update the value of b by subtracting (learning rate) * (gradient of the loss function wrt b) from its current value\n",
    "      model.b.assign_sub(learning_rate * db)"
   ]
  },
  {
   "cell_type": "markdown",
   "metadata": {
    "id": "7iziWWURgck8"
   },
   "source": [
    "### 1.3.6 Train the Network\n",
    "At each epoch, we'll print the values of the updated parameters and the loss function"
   ]
  },
  {
   "cell_type": "code",
   "execution_count": 8,
   "metadata": {
    "colab": {
     "base_uri": "https://localhost:8080/"
    },
    "executionInfo": {
     "elapsed": 273,
     "status": "ok",
     "timestamp": 1635874322952,
     "user": {
      "displayName": "Joseph catanzarite",
      "photoUrl": "https://lh3.googleusercontent.com/a-/AOh14GgmMRaw8NgoEDqzevEZ6b18iOYdEH9nWTZeaFBW=s64",
      "userId": "16649206137414945374"
     },
     "user_tz": 420
    },
    "id": "4zn_HgFuHhTr",
    "outputId": "e784dc76-0ed4-4b46-a188-3327c2dbc223"
   },
   "outputs": [
    {
     "name": "stdout",
     "output_type": "stream",
     "text": [
      "Epoch  0: w=7.11 b=42.01 loss=121.57993\n",
      "Epoch  1: w=6.39 b=43.61 loss=78.13313\n",
      "Epoch  2: w=5.82 b=44.90 loss=50.34162\n",
      "Epoch  3: w=5.36 b=45.92 loss=32.56432\n",
      "Epoch  4: w=5.00 b=46.75 loss=21.19275\n",
      "Epoch  5: w=4.70 b=47.40 loss=13.91873\n",
      "Epoch  6: w=4.47 b=47.93 loss=9.26577\n",
      "Epoch  7: w=4.28 b=48.35 loss=6.28940\n",
      "Epoch  8: w=4.13 b=48.68 loss=4.38550\n",
      "Epoch  9: w=4.01 b=48.95 loss=3.16764\n",
      "Epoch 10: w=3.91 b=49.16 loss=2.38861\n",
      "Epoch 11: w=3.84 b=49.34 loss=1.89029\n",
      "Epoch 12: w=3.77 b=49.47 loss=1.57152\n",
      "Epoch 13: w=3.72 b=49.58 loss=1.36761\n",
      "Epoch 14: w=3.68 b=49.67 loss=1.23718\n",
      "Epoch 15: w=3.65 b=49.74 loss=1.15374\n",
      "Epoch 16: w=3.63 b=49.80 loss=1.10037\n",
      "Epoch 17: w=3.61 b=49.84 loss=1.06623\n",
      "Epoch 18: w=3.59 b=49.88 loss=1.04439\n",
      "Epoch 19: w=3.58 b=49.91 loss=1.03042\n",
      "Epoch 20: w=3.57 b=49.93 loss=1.02149\n",
      "Epoch 21: w=3.56 b=49.95 loss=1.01577\n",
      "Epoch 22: w=3.55 b=49.96 loss=1.01212\n",
      "Epoch 23: w=3.55 b=49.97 loss=1.00978\n",
      "Epoch 24: w=3.54 b=49.98 loss=1.00828\n",
      "Epoch 25: w=3.54 b=49.99 loss=1.00732\n",
      "Epoch 26: w=3.54 b=50.00 loss=1.00671\n",
      "Epoch 27: w=3.53 b=50.00 loss=1.00632\n",
      "Epoch 28: w=3.53 b=50.01 loss=1.00607\n",
      "Epoch 29: w=3.53 b=50.01 loss=1.00591\n",
      "Epoch 30: w=3.53 b=50.01 loss=1.00581\n",
      "Epoch 31: w=3.53 b=50.01 loss=1.00574\n",
      "Epoch 32: w=3.53 b=50.01 loss=1.00570\n",
      "Epoch 33: w=3.53 b=50.02 loss=1.00567\n",
      "Epoch 34: w=3.53 b=50.02 loss=1.00565\n",
      "Epoch 35: w=3.53 b=50.02 loss=1.00564\n",
      "Epoch 36: w=3.53 b=50.02 loss=1.00564\n",
      "Epoch 37: w=3.53 b=50.02 loss=1.00563\n",
      "Epoch 38: w=3.53 b=50.02 loss=1.00563\n",
      "Epoch 39: w=3.53 b=50.02 loss=1.00563\n",
      "Epoch 40: w=3.53 b=50.02 loss=1.00563\n",
      "Epoch 41: w=3.53 b=50.02 loss=1.00562\n",
      "Epoch 42: w=3.53 b=50.02 loss=1.00562\n",
      "Epoch 43: w=3.52 b=50.02 loss=1.00562\n",
      "Epoch 44: w=3.52 b=50.02 loss=1.00562\n",
      "Epoch 45: w=3.52 b=50.02 loss=1.00562\n",
      "Epoch 46: w=3.52 b=50.02 loss=1.00562\n",
      "Epoch 47: w=3.52 b=50.02 loss=1.00562\n",
      "Epoch 48: w=3.52 b=50.02 loss=1.00562\n",
      "Epoch 49: w=3.52 b=50.02 loss=1.00562\n"
     ]
    }
   ],
   "source": [
    "model = Model()\n",
    "\n",
    "# Store parameter history\n",
    "ws, bs = [], []\n",
    "current_loss = []\n",
    "epochs = range(50)\n",
    "\n",
    "for epoch in epochs:\n",
    "\n",
    "    # forward propagate the current parameters through the network to predict targets\n",
    "    y_hat =  model(inputs)\n",
    "\n",
    "    # compute the loss function by comparing target predictions to the true targets\n",
    "    current_loss.append(loss(outputs, y_hat, model))\n",
    "\n",
    "    # update the parameters (weight and bias) based on gradient descent\n",
    "    train(model, inputs, outputs, learning_rate=0.1)\n",
    "\n",
    "    # store the updated values of weight and bias\n",
    "    ws.append(model.w.numpy())\n",
    "    bs.append(model.b.numpy())\n",
    "\n",
    "    print('Epoch %2d: w=%1.2f b=%1.2f loss=%2.5f' % (epoch, ws[-1], bs[-1], current_loss[-1]))\n",
    "\n"
   ]
  },
  {
   "cell_type": "code",
   "execution_count": 9,
   "metadata": {
    "colab": {
     "base_uri": "https://localhost:8080/",
     "height": 283
    },
    "executionInfo": {
     "elapsed": 363,
     "status": "ok",
     "timestamp": 1635874427250,
     "user": {
      "displayName": "Joseph catanzarite",
      "photoUrl": "https://lh3.googleusercontent.com/a-/AOh14GgmMRaw8NgoEDqzevEZ6b18iOYdEH9nWTZeaFBW=s64",
      "userId": "16649206137414945374"
     },
     "user_tz": 420
    },
    "id": "FSEt07wdHvi2",
    "outputId": "51d0a461-e2fb-4177-8bad-969b665bba2d"
   },
   "outputs": [
    {
     "data": {
      "image/png": "[encoded data removed]",
      "text/plain": [
       "<Figure size 432x288 with 1 Axes>"
      ]
     },
     "metadata": {
      "needs_background": "light"
     },
     "output_type": "display_data"
    }
   ],
   "source": [
    "plt.plot(epochs, ws, 'r', epochs, bs, 'b')\n",
    "plt.plot([w_true] * len(epochs), 'r--',\n",
    "         [b_true] * len(epochs), 'b--')\n",
    "plt.xlabel('Epoch number',FontSize=14)\n",
    "plt.ylabel('Parameter value',FontSize=14)\n",
    "plt.legend(['w', 'b', 'True w', 'True b'])\n",
    "plt.grid()"
   ]
  },
  {
   "cell_type": "code",
   "execution_count": 10,
   "metadata": {
    "colab": {
     "base_uri": "https://localhost:8080/",
     "height": 283
    },
    "executionInfo": {
     "elapsed": 443,
     "status": "ok",
     "timestamp": 1635874462493,
     "user": {
      "displayName": "Joseph catanzarite",
      "photoUrl": "https://lh3.googleusercontent.com/a-/AOh14GgmMRaw8NgoEDqzevEZ6b18iOYdEH9nWTZeaFBW=s64",
      "userId": "16649206137414945374"
     },
     "user_tz": 420
    },
    "id": "8cmu3mtNTVDf",
    "outputId": "7b80307a-0b37-42d9-911c-d9dd17e10f0e"
   },
   "outputs": [
    {
     "data": {
      "image/png": "[encoded data removed]",
      "text/plain": [
       "<Figure size 432x288 with 1 Axes>"
      ]
     },
     "metadata": {
      "needs_background": "light"
     },
     "output_type": "display_data"
    }
   ],
   "source": [
    "plt.plot(epochs, current_loss, 'k')\n",
    "plt.xlabel('Epoch number',FontSize=14)\n",
    "plt.ylabel('Loss',FontSize=14)\n",
    "plt.grid()"
   ]
  },
  {
   "cell_type": "code",
   "execution_count": 11,
   "metadata": {
    "colab": {
     "base_uri": "https://localhost:8080/",
     "height": 301
    },
    "executionInfo": {
     "elapsed": 19,
     "status": "ok",
     "timestamp": 1635874490205,
     "user": {
      "displayName": "Joseph catanzarite",
      "photoUrl": "https://lh3.googleusercontent.com/a-/AOh14GgmMRaw8NgoEDqzevEZ6b18iOYdEH9nWTZeaFBW=s64",
      "userId": "16649206137414945374"
     },
     "user_tz": 420
    },
    "id": "6pKDfpplbUxN",
    "outputId": "295368c2-e450-4266-9932-90552c0fd52a"
   },
   "outputs": [
    {
     "name": "stdout",
     "output_type": "stream",
     "text": [
      "Current loss: 1.005623\n"
     ]
    },
    {
     "data": {
      "image/png": "[encoded data removed]",
      "text/plain": [
       "<Figure size 432x288 with 1 Axes>"
      ]
     },
     "metadata": {
      "needs_background": "light"
     },
     "output_type": "display_data"
    }
   ],
   "source": [
    "plt.scatter(inputs, outputs, c='b', label = \"data\")\n",
    "plt.plot(inputs, model(inputs),c='r',label = \"model predictions\")\n",
    "plt.legend()\n",
    "plt.xlabel('x',FontSize=14)\n",
    "plt.ylabel('y',FontSize=14)\n",
    "plt.grid()\n",
    "\n",
    "print('Current loss: %1.6f'% current_loss[-1])"
   ]
  },
  {
   "cell_type": "markdown",
   "metadata": {
    "id": "5N4lWxfS6YIQ"
   },
   "source": [
    "### Nice job! Our model closely fits the data. \n",
    "### Congratulations! <br>\n",
    "You've just learned how to train a neural network using gradient descent and back-propagation with Keras!"
   ]
  },
  {
   "cell_type": "markdown",
   "metadata": {
    "id": "iKUVGoRxgck_"
   },
   "source": [
    "## Challenge\n",
    "\n",
    "In the module project, you will be asked to explain the logic of back-propagation and gradient descent."
   ]
  },
  {
   "cell_type": "markdown",
   "metadata": {
    "id": "jFGB1EXNwxM-"
   },
   "source": [
    "## Investigate the effects of the `batch_size` and `learning_rate` hyperparameters.\n",
    "\n",
    "In parts 2 and 3, we'll return to modeling the MNIST handwritten digit data set. <br>\n",
    "Although we'll adjust `batch_size` and `learning_rate` separately, they are in fact related. <br>\n",
    "Larger `batch_size` gives more accurate parameter updates, so we can confidently move toward the minimum of the loss function with larger steps, i.e. we can use larger values of `learning_rate`. Conversely, smaller batch sizes give \"noisier\" updates, so we should take smaller steps, i.e. use smaller values of `learning_rate`. \n",
    "\n"
   ]
  },
  {
   "cell_type": "markdown",
   "metadata": {
    "id": "vTqZg-6igclA",
    "toc-hr-collapsed": true
   },
   "source": [
    "# 2. Effect of the Batch Size Hyperparameter on Training a Neural Network (Learn)"
   ]
  },
  {
   "cell_type": "markdown",
   "metadata": {
    "id": "0nrm-racgclA"
   },
   "source": [
    "## 2.1 Overview\n",
    "\n",
    "### 2.1.1 Stochastic Gradient Descent\n",
    "\n",
    "Stochastic Gradient Descent (SGD) calculates an approximation of the gradient over the entire dataset from the predictions of a **single** randomly chosen sample. \n",
    "\n",
    "Why use a single sample instead of all of the samples (a batch), or a random subset of the samples (a minibatch)?\n",
    "\n",
    "Because calculating the gradient over the entire dataset (or a subset) is extremely expensive computationally compared to using a single sample.\n",
    "\n",
    "So parameter updates in SGD are super-fast. What's the tradeoff? Can't get something for nothing!<br>\n",
    "The tradeoff is that SGD produces a noisy parameter update, because we are only using a small amount of information (a single sample) to compute the update!\n",
    "\n",
    "**Takeaway**: SGD computes *rapid* but *noisy* parameter updates!\n",
    "\n",
    "### 2.1.2 Minibatch Gradient Descent\n",
    "In minibatch Gradient Descent, the parameters are updated based on a batch of data points. Batch size is the number of data points our model uses to update the parameters and predict target values. A batch is a randomly selected subset of an epoch. All observations are eventually used when processing an epoch.\n",
    "\n",
    "* Smaller Batch = Slower Run Time, but potentially better generalization accuracy (due to noisier updates helping against overfitting!)\n",
    "* Default Batch = Balance between speed and generalization accuracy\n",
    "* Large Batch = Faster run time, but potentially worse generalization accuracy due to overfitting\n",
    "\n",
    "### 2.1.3 Batch Gradient Descent\n",
    "Another way to do Gradient Descent is to use all the data to compute each update, so that the parameters get updated only every epoch. But this is often problematic, because the whole dataset would have to fit in memory, and dataset can be huge."
   ]
  },
  {
   "cell_type": "markdown",
   "metadata": {
    "id": "oNQ2ZCi7I4i6"
   },
   "source": [
    "## 2.2 Baseline Model with MNIST data"
   ]
  },
  {
   "cell_type": "code",
   "execution_count": 12,
   "metadata": {
    "colab": {
     "base_uri": "https://localhost:8080/"
    },
    "executionInfo": {
     "elapsed": 1286,
     "status": "ok",
     "timestamp": 1635875218621,
     "user": {
      "displayName": "Joseph catanzarite",
      "photoUrl": "https://lh3.googleusercontent.com/a-/AOh14GgmMRaw8NgoEDqzevEZ6b18iOYdEH9nWTZeaFBW=s64",
      "userId": "16649206137414945374"
     },
     "user_tz": 420
    },
    "id": "mZjW2lYVI9Q2",
    "nbgrader": {
     "grade": false,
     "grade_id": "cell-1c90a81f1eece31b",
     "locked": false,
     "schema_version": 3,
     "solution": true,
     "task": false
    },
    "outputId": "67b2e144-df2e-4551-92a8-c3d2df894c98"
   },
   "outputs": [
    {
     "name": "stdout",
     "output_type": "stream",
     "text": [
      "Downloading data from https://storage.googleapis.com/tensorflow/tf-keras-datasets/mnist.npz\n",
      "11493376/11490434 [==============================] - 0s 0us/step\n",
      "11501568/11490434 [==============================] - 0s 0us/step\n"
     ]
    }
   ],
   "source": [
    "# load data\n",
    "\n",
    "# normalize data\n",
    "\n",
    "### BEGIN SOLUTION\n",
    "(X_train, y_train), (X_test, y_test) = mnist.load_data()\n",
    "\n",
    "# normalize data \n",
    "max_pixel_value = 255\n",
    "X_train = X_train / max_pixel_value\n",
    "X_test = X_test / max_pixel_value\n",
    "\n",
    "X_train = X_train.reshape((60000, 784))\n",
    "X_test = X_test.reshape((10000, 784))\n",
    "### END SOLUTION"
   ]
  },
  {
   "cell_type": "markdown",
   "metadata": {
    "id": "Kkvukt_X9G48"
   },
   "source": [
    "### 2.2.1 Normalizing the data can help your model learn faster\n",
    "\n",
    "If your dataset has values ranging across multiple orders of magnitude (i.e. $10^1,~~10^2,~~10^3,~~10^4$), then gradient descent will update the weights and biases in grossly uneven proportions.<br> \n",
    "\n",
    "**Normalizing** the data, i.e shifting and scaling the values to lie within the unit interval $[0,1]$ ensures that all weight and bias updates are on the same scale, which can lead to quicker convergence. \n",
    "\n",
    "![](https://quicktomaster.com/wp-content/uploads/2020/08/contour_plot.png)\n",
    "\n",
    "There's more to be said about Normalization and Gradient Descent <br>\n",
    "If you are interested in going deeper, we highly recommend this well written article [Normalizing your data](https://www.jeremyjordan.me/batch-normalization/) in which Jeremy Jordan explores the impact of normalization on Gradient Descent in greater detail."
   ]
  },
  {
   "cell_type": "markdown",
   "metadata": {
    "id": "GPDPo4LG1gxY"
   },
   "source": [
    "### 2.2.2 Helper function to build our neural network model\n",
    "Since this is a classification problem with 10 classes and the target values are integers the [appropriate loss function](https://stats.stackexchange.com/questions/326065/cross-entropy-vs-sparse-cross-entropy-when-to-use-one-over-the-other) to use in our model is `sparse_categorical_crossentropy`."
   ]
  },
  {
   "cell_type": "code",
   "execution_count": 13,
   "metadata": {
    "executionInfo": {
     "elapsed": 266,
     "status": "ok",
     "timestamp": 1635875325419,
     "user": {
      "displayName": "Joseph catanzarite",
      "photoUrl": "https://lh3.googleusercontent.com/a-/AOh14GgmMRaw8NgoEDqzevEZ6b18iOYdEH9nWTZeaFBW=s64",
      "userId": "16649206137414945374"
     },
     "user_tz": 420
    },
    "id": "o7x17kDKJSy5",
    "nbgrader": {
     "grade": false,
     "grade_id": "cell-38ed3365b403af52",
     "locked": false,
     "schema_version": 3,
     "solution": true,
     "task": false
    }
   },
   "outputs": [],
   "source": [
    "# write a function called create_model that accepts a learning rate alpha for SGD as an input parameter \n",
    "# it should return a complied, 2 hidden layer neural net that uses SGD as the optimizer \n",
    "# Import SGD as discussed here: https://keras.io/api/optimizers/sgd/\n",
    "\n",
    "\n",
    "\n",
    "# create create_model\n",
    "def create_model(lr=.01):\n",
    "    \"\"\"\n",
    "    Parameters\n",
    "    ----------\n",
    "    lr: float\n",
    "        Learning rate parameter used for Stocastic Gradient Descent \n",
    "        \n",
    "    Returns\n",
    "    -------\n",
    "    model: keras object \n",
    "        A complied keras model \n",
    "    \"\"\"\n",
    "### BEGIN SOLUTION\n",
    "    opt = SGD(learning_rate=lr)\n",
    "\n",
    "    # build a model by passing a list of layers to Sequential()\n",
    "    model = Sequential([\n",
    "          # hidden layer 1 \n",
    "          Dense(1, activation='relu', input_dim=784),\n",
    "          # hidden layer 2 \n",
    "          Dense(32, activation='relu'),\n",
    "          # output layer \n",
    "          Dense(10, activation='softmax')\n",
    "\n",
    "    ])\n",
    "\n",
    "    model.compile(optimizer=opt, \n",
    "                  loss='sparse_categorical_crossentropy',\n",
    "                  metrics=['accuracy'])\n",
    "    return model\n",
    "### END SOLUTION "
   ]
  },
  {
   "cell_type": "code",
   "execution_count": 14,
   "metadata": {
    "colab": {
     "base_uri": "https://localhost:8080/"
    },
    "executionInfo": {
     "elapsed": 263,
     "status": "ok",
     "timestamp": 1635875329079,
     "user": {
      "displayName": "Joseph catanzarite",
      "photoUrl": "https://lh3.googleusercontent.com/a-/AOh14GgmMRaw8NgoEDqzevEZ6b18iOYdEH9nWTZeaFBW=s64",
      "userId": "16649206137414945374"
     },
     "user_tz": 420
    },
    "id": "W-HsAQ-9jgUM",
    "outputId": "a5a127f9-1cef-40d5-8565-e9cf4165e869"
   },
   "outputs": [
    {
     "name": "stdout",
     "output_type": "stream",
     "text": [
      "Model: \"sequential\"\n",
      "_________________________________________________________________\n",
      "Layer (type)                 Output Shape              Param #   \n",
      "=================================================================\n",
      "dense (Dense)                (None, 1)                 785       \n",
      "_________________________________________________________________\n",
      "dense_1 (Dense)              (None, 32)                64        \n",
      "_________________________________________________________________\n",
      "dense_2 (Dense)              (None, 10)                330       \n",
      "=================================================================\n",
      "Total params: 1,179\n",
      "Trainable params: 1,179\n",
      "Non-trainable params: 0\n",
      "_________________________________________________________________\n"
     ]
    }
   ],
   "source": [
    "create_model().summary()"
   ]
  },
  {
   "cell_type": "markdown",
   "metadata": {
    "id": "ZF7UE-KluPsX"
   },
   "source": [
    "## 2.3 Experiments to gauge the effect of batch size (Follow Along)\n",
    "Let's run a series of experiments for a default, small, and large batch size."
   ]
  },
  {
   "cell_type": "markdown",
   "metadata": {
    "id": "VhpDaVFRJl3U"
   },
   "source": [
    "### 2.3.1 Default Batch Size\n",
    "Batch Size is 32"
   ]
  },
  {
   "cell_type": "code",
   "execution_count": 15,
   "metadata": {
    "colab": {
     "base_uri": "https://localhost:8080/"
    },
    "executionInfo": {
     "elapsed": 20514,
     "status": "ok",
     "timestamp": 1635875409091,
     "user": {
      "displayName": "Joseph catanzarite",
      "photoUrl": "https://lh3.googleusercontent.com/a-/AOh14GgmMRaw8NgoEDqzevEZ6b18iOYdEH9nWTZeaFBW=s64",
      "userId": "16649206137414945374"
     },
     "user_tz": 420
    },
    "id": "P-ChVGikgclD",
    "outputId": "99f279a5-ad10-4a55-f8f8-db3fdd2470e5",
    "scrolled": true
   },
   "outputs": [
    {
     "name": "stdout",
     "output_type": "stream",
     "text": [
      "Epoch 1/5\n",
      "1875/1875 [==============================] - 5s 2ms/step - loss: 2.1542 - accuracy: 0.1724 - val_loss: 1.9636 - val_accuracy: 0.2287\n",
      "Epoch 2/5\n",
      "1875/1875 [==============================] - 4s 2ms/step - loss: 1.9056 - accuracy: 0.2446 - val_loss: 1.8603 - val_accuracy: 0.2611\n",
      "Epoch 3/5\n",
      "1875/1875 [==============================] - 3s 2ms/step - loss: 1.8357 - accuracy: 0.2646 - val_loss: 1.8050 - val_accuracy: 0.2803\n",
      "Epoch 4/5\n",
      "1875/1875 [==============================] - 4s 2ms/step - loss: 1.7851 - accuracy: 0.2807 - val_loss: 1.7618 - val_accuracy: 0.2876\n",
      "Epoch 5/5\n",
      "1875/1875 [==============================] - 4s 2ms/step - loss: 1.7364 - accuracy: 0.2907 - val_loss: 1.7148 - val_accuracy: 0.2993\n",
      "CPU times: user 20.6 s, sys: 2.01 s, total: 22.6 s\n",
      "Wall time: 20.2 s\n"
     ]
    }
   ],
   "source": [
    "%%time\n",
    "# instantiate a model and fit it with batch size of 32\n",
    "model = create_model()\n",
    "bt_default = model.fit(X_train, y_train, batch_size=32, validation_data=(X_test, y_test), epochs=5)"
   ]
  },
  {
   "cell_type": "markdown",
   "metadata": {
    "id": "krYQ1XHvnpk_"
   },
   "source": [
    "What's that number 1875? It's the number of batches in the full data set"
   ]
  },
  {
   "cell_type": "code",
   "execution_count": 16,
   "metadata": {
    "colab": {
     "base_uri": "https://localhost:8080/"
    },
    "executionInfo": {
     "elapsed": 535,
     "status": "ok",
     "timestamp": 1635875489521,
     "user": {
      "displayName": "Joseph catanzarite",
      "photoUrl": "https://lh3.googleusercontent.com/a-/AOh14GgmMRaw8NgoEDqzevEZ6b18iOYdEH9nWTZeaFBW=s64",
      "userId": "16649206137414945374"
     },
     "user_tz": 420
    },
    "id": "knaV6-vBjwNQ",
    "outputId": "7fdf03fe-fa25-476e-cf32-1e63f88fee25"
   },
   "outputs": [
    {
     "name": "stdout",
     "output_type": "stream",
     "text": [
      "(60000, 784)\n",
      "1875.0\n"
     ]
    }
   ],
   "source": [
    "print(X_train.shape)\n",
    "print(X_train.shape[0]/32)"
   ]
  },
  {
   "cell_type": "code",
   "execution_count": null,
   "metadata": {
    "colab": {
     "base_uri": "https://localhost:8080/"
    },
    "executionInfo": {
     "elapsed": 14,
     "status": "ok",
     "timestamp": 1633481533850,
     "user": {
      "displayName": "Joseph catanzarite",
      "photoUrl": "https://lh3.googleusercontent.com/a-/AOh14GgmMRaw8NgoEDqzevEZ6b18iOYdEH9nWTZeaFBW=s64",
      "userId": "16649206137414945374"
     },
     "user_tz": 420
    },
    "id": "A0hxaeqyj4ye",
    "outputId": "3a9daa49-48c1-4cf3-9a53-69583773acdc"
   },
   "outputs": [
    {
     "data": {
      "text/plain": [
       "1875.0"
      ]
     },
     "execution_count": 15,
     "metadata": {},
     "output_type": "execute_result"
    }
   ],
   "source": [
    "60000/32"
   ]
  },
  {
   "cell_type": "markdown",
   "metadata": {
    "id": "KvsbOFnDJuG0"
   },
   "source": [
    "### 2.3.2 Small Batch Size\n",
    "Batch Size is 8"
   ]
  },
  {
   "cell_type": "code",
   "execution_count": 17,
   "metadata": {
    "colab": {
     "base_uri": "https://localhost:8080/"
    },
    "executionInfo": {
     "elapsed": 83748,
     "status": "ok",
     "timestamp": 1635875583628,
     "user": {
      "displayName": "Joseph catanzarite",
      "photoUrl": "https://lh3.googleusercontent.com/a-/AOh14GgmMRaw8NgoEDqzevEZ6b18iOYdEH9nWTZeaFBW=s64",
      "userId": "16649206137414945374"
     },
     "user_tz": 420
    },
    "id": "diDzvb-UJ1je",
    "outputId": "a471ca7a-4fb4-4284-8524-2ae03faf2722",
    "scrolled": true
   },
   "outputs": [
    {
     "name": "stdout",
     "output_type": "stream",
     "text": [
      "Epoch 1/5\n",
      "7500/7500 [==============================] - 17s 2ms/step - loss: 1.6879 - accuracy: 0.3016 - val_loss: 1.6520 - val_accuracy: 0.3284\n",
      "Epoch 2/5\n",
      "7500/7500 [==============================] - 16s 2ms/step - loss: 1.6493 - accuracy: 0.3195 - val_loss: 1.6228 - val_accuracy: 0.3356\n",
      "Epoch 3/5\n",
      "7500/7500 [==============================] - 16s 2ms/step - loss: 1.6263 - accuracy: 0.3452 - val_loss: 1.6091 - val_accuracy: 0.3519\n",
      "Epoch 4/5\n",
      "7500/7500 [==============================] - 17s 2ms/step - loss: 1.5986 - accuracy: 0.3712 - val_loss: 1.6124 - val_accuracy: 0.3779\n",
      "Epoch 5/5\n",
      "7500/7500 [==============================] - 17s 2ms/step - loss: 1.5618 - accuracy: 0.3863 - val_loss: 1.5485 - val_accuracy: 0.3913\n",
      "CPU times: user 1min 29s, sys: 7.11 s, total: 1min 36s\n",
      "Wall time: 1min 23s\n"
     ]
    }
   ],
   "source": [
    "%%time\n",
    "# instantiate a model and fit it with batch size of 8\n",
    "#YOUR CODE HERE\n",
    "bt_small = model.fit(X_train, y_train, batch_size=8, validation_data=(X_test, y_test), epochs=5)"
   ]
  },
  {
   "cell_type": "markdown",
   "metadata": {
    "id": "_iPvvvt5J2Xl"
   },
   "source": [
    "### 2.3.3 Large Batch Size\n",
    "Batch Size is 512"
   ]
  },
  {
   "cell_type": "code",
   "execution_count": 18,
   "metadata": {
    "colab": {
     "base_uri": "https://localhost:8080/"
    },
    "executionInfo": {
     "elapsed": 3003,
     "status": "ok",
     "timestamp": 1635875640018,
     "user": {
      "displayName": "Joseph catanzarite",
      "photoUrl": "https://lh3.googleusercontent.com/a-/AOh14GgmMRaw8NgoEDqzevEZ6b18iOYdEH9nWTZeaFBW=s64",
      "userId": "16649206137414945374"
     },
     "user_tz": 420
    },
    "id": "7h8Z5293KABT",
    "outputId": "a1600137-44a8-46ff-bce8-1b4e70348d06"
   },
   "outputs": [
    {
     "name": "stdout",
     "output_type": "stream",
     "text": [
      "Epoch 1/5\n",
      "118/118 [==============================] - 1s 4ms/step - loss: 1.5214 - accuracy: 0.4108 - val_loss: 1.5192 - val_accuracy: 0.4045\n",
      "Epoch 2/5\n",
      "118/118 [==============================] - 0s 4ms/step - loss: 1.5175 - accuracy: 0.4111 - val_loss: 1.5176 - val_accuracy: 0.4077\n",
      "Epoch 3/5\n",
      "118/118 [==============================] - 0s 3ms/step - loss: 1.5162 - accuracy: 0.4119 - val_loss: 1.5163 - val_accuracy: 0.4067\n",
      "Epoch 4/5\n",
      "118/118 [==============================] - 0s 3ms/step - loss: 1.5151 - accuracy: 0.4126 - val_loss: 1.5156 - val_accuracy: 0.4099\n",
      "Epoch 5/5\n",
      "118/118 [==============================] - 0s 4ms/step - loss: 1.5142 - accuracy: 0.4122 - val_loss: 1.5144 - val_accuracy: 0.4083\n"
     ]
    }
   ],
   "source": [
    "# instantiate a model and fit it with batch size of 512\n",
    "#YOUR CODE HERE\n",
    "bt_large = model.fit(X_train, y_train, batch_size=512, validation_data=(X_test, y_test), epochs=5)"
   ]
  },
  {
   "cell_type": "code",
   "execution_count": 21,
   "metadata": {
    "colab": {
     "base_uri": "https://localhost:8080/"
    },
    "executionInfo": {
     "elapsed": 557,
     "status": "ok",
     "timestamp": 1635875728382,
     "user": {
      "displayName": "Joseph catanzarite",
      "photoUrl": "https://lh3.googleusercontent.com/a-/AOh14GgmMRaw8NgoEDqzevEZ6b18iOYdEH9nWTZeaFBW=s64",
      "userId": "16649206137414945374"
     },
     "user_tz": 420
    },
    "id": "vE2Awnk3aXPv",
    "outputId": "cc7452bd-e41e-4c32-94ac-3bc41d7b853c"
   },
   "outputs": [
    {
     "data": {
      "text/plain": [
       "{'accuracy': [0.17238333821296692,\n",
       "  0.24461667239665985,\n",
       "  0.26460000872612,\n",
       "  0.28068333864212036,\n",
       "  0.2906833291053772],\n",
       " 'loss': [2.1541659832000732,\n",
       "  1.9055898189544678,\n",
       "  1.8357499837875366,\n",
       "  1.7850828170776367,\n",
       "  1.7363734245300293],\n",
       " 'val_accuracy': [0.22869999706745148,\n",
       "  0.26109999418258667,\n",
       "  0.28029999136924744,\n",
       "  0.28760001063346863,\n",
       "  0.2992999851703644],\n",
       " 'val_loss': [1.963626742362976,\n",
       "  1.8602591753005981,\n",
       "  1.8049832582473755,\n",
       "  1.7618074417114258,\n",
       "  1.7148324251174927]}"
      ]
     },
     "execution_count": 21,
     "metadata": {},
     "output_type": "execute_result"
    }
   ],
   "source": [
    "bt_default.history"
   ]
  },
  {
   "cell_type": "code",
   "execution_count": 22,
   "metadata": {
    "executionInfo": {
     "elapsed": 338,
     "status": "ok",
     "timestamp": 1635875737840,
     "user": {
      "displayName": "Joseph catanzarite",
      "photoUrl": "https://lh3.googleusercontent.com/a-/AOh14GgmMRaw8NgoEDqzevEZ6b18iOYdEH9nWTZeaFBW=s64",
      "userId": "16649206137414945374"
     },
     "user_tz": 420
    },
    "id": "YQFCYnUSakDU"
   },
   "outputs": [],
   "source": [
    "import pandas as pd\n",
    "dd = pd.DataFrame.from_dict(bt_default.history)"
   ]
  },
  {
   "cell_type": "code",
   "execution_count": 23,
   "metadata": {
    "colab": {
     "base_uri": "https://localhost:8080/",
     "height": 206
    },
    "executionInfo": {
     "elapsed": 563,
     "status": "ok",
     "timestamp": 1635875741261,
     "user": {
      "displayName": "Joseph catanzarite",
      "photoUrl": "https://lh3.googleusercontent.com/a-/AOh14GgmMRaw8NgoEDqzevEZ6b18iOYdEH9nWTZeaFBW=s64",
      "userId": "16649206137414945374"
     },
     "user_tz": 420
    },
    "id": "lZaxTfmNauCw",
    "outputId": "b4bb1a51-7dec-4870-dfc8-894c308a4efe"
   },
   "outputs": [
    {
     "data": {
      "text/html": [
       "<div>\n",
       "<style scoped>\n",
       "    .dataframe tbody tr th:only-of-type {\n",
       "        vertical-align: middle;\n",
       "    }\n",
       "\n",
       "    .dataframe tbody tr th {\n",
       "        vertical-align: top;\n",
       "    }\n",
       "\n",
       "    .dataframe thead th {\n",
       "        text-align: right;\n",
       "    }\n",
       "</style>\n",
       "<table border=\"1\" class=\"dataframe\">\n",
       "  <thead>\n",
       "    <tr style=\"text-align: right;\">\n",
       "      <th></th>\n",
       "      <th>loss</th>\n",
       "      <th>accuracy</th>\n",
       "      <th>val_loss</th>\n",
       "      <th>val_accuracy</th>\n",
       "    </tr>\n",
       "  </thead>\n",
       "  <tbody>\n",
       "    <tr>\n",
       "      <th>0</th>\n",
       "      <td>2.154166</td>\n",
       "      <td>0.172383</td>\n",
       "      <td>1.963627</td>\n",
       "      <td>0.2287</td>\n",
       "    </tr>\n",
       "    <tr>\n",
       "      <th>1</th>\n",
       "      <td>1.905590</td>\n",
       "      <td>0.244617</td>\n",
       "      <td>1.860259</td>\n",
       "      <td>0.2611</td>\n",
       "    </tr>\n",
       "    <tr>\n",
       "      <th>2</th>\n",
       "      <td>1.835750</td>\n",
       "      <td>0.264600</td>\n",
       "      <td>1.804983</td>\n",
       "      <td>0.2803</td>\n",
       "    </tr>\n",
       "    <tr>\n",
       "      <th>3</th>\n",
       "      <td>1.785083</td>\n",
       "      <td>0.280683</td>\n",
       "      <td>1.761807</td>\n",
       "      <td>0.2876</td>\n",
       "    </tr>\n",
       "    <tr>\n",
       "      <th>4</th>\n",
       "      <td>1.736373</td>\n",
       "      <td>0.290683</td>\n",
       "      <td>1.714832</td>\n",
       "      <td>0.2993</td>\n",
       "    </tr>\n",
       "  </tbody>\n",
       "</table>\n",
       "</div>"
      ],
      "text/plain": [
       "       loss  accuracy  val_loss  val_accuracy\n",
       "0  2.154166  0.172383  1.963627        0.2287\n",
       "1  1.905590  0.244617  1.860259        0.2611\n",
       "2  1.835750  0.264600  1.804983        0.2803\n",
       "3  1.785083  0.280683  1.761807        0.2876\n",
       "4  1.736373  0.290683  1.714832        0.2993"
      ]
     },
     "execution_count": 23,
     "metadata": {},
     "output_type": "execute_result"
    }
   ],
   "source": [
    "dd"
   ]
  },
  {
   "cell_type": "markdown",
   "metadata": {
    "id": "B0ujUz6BKUGz"
   },
   "source": [
    "### 2.3.4 Visualize Results"
   ]
  },
  {
   "cell_type": "code",
   "execution_count": 24,
   "metadata": {
    "colab": {
     "base_uri": "https://localhost:8080/",
     "height": 520
    },
    "executionInfo": {
     "elapsed": 284,
     "status": "ok",
     "timestamp": 1635875762768,
     "user": {
      "displayName": "Joseph catanzarite",
      "photoUrl": "https://lh3.googleusercontent.com/a-/AOh14GgmMRaw8NgoEDqzevEZ6b18iOYdEH9nWTZeaFBW=s64",
      "userId": "16649206137414945374"
     },
     "user_tz": 420
    },
    "id": "o-5DOZNMKYt-",
    "outputId": "dee8b7e7-2452-4fde-c8cf-43ee9700d966"
   },
   "outputs": [
    {
     "data": {
      "text/html": [
       "<div>\n",
       "<style scoped>\n",
       "    .dataframe tbody tr th:only-of-type {\n",
       "        vertical-align: middle;\n",
       "    }\n",
       "\n",
       "    .dataframe tbody tr th {\n",
       "        vertical-align: top;\n",
       "    }\n",
       "\n",
       "    .dataframe thead th {\n",
       "        text-align: right;\n",
       "    }\n",
       "</style>\n",
       "<table border=\"1\" class=\"dataframe\">\n",
       "  <thead>\n",
       "    <tr style=\"text-align: right;\">\n",
       "      <th></th>\n",
       "      <th>loss</th>\n",
       "      <th>accuracy</th>\n",
       "      <th>val_loss</th>\n",
       "      <th>val_accuracy</th>\n",
       "      <th>epoch</th>\n",
       "      <th>Batch Size</th>\n",
       "    </tr>\n",
       "  </thead>\n",
       "  <tbody>\n",
       "    <tr>\n",
       "      <th>0</th>\n",
       "      <td>2.154166</td>\n",
       "      <td>0.172383</td>\n",
       "      <td>1.963627</td>\n",
       "      <td>0.2287</td>\n",
       "      <td>0</td>\n",
       "      <td>32_</td>\n",
       "    </tr>\n",
       "    <tr>\n",
       "      <th>1</th>\n",
       "      <td>1.905590</td>\n",
       "      <td>0.244617</td>\n",
       "      <td>1.860259</td>\n",
       "      <td>0.2611</td>\n",
       "      <td>1</td>\n",
       "      <td>32_</td>\n",
       "    </tr>\n",
       "    <tr>\n",
       "      <th>2</th>\n",
       "      <td>1.835750</td>\n",
       "      <td>0.264600</td>\n",
       "      <td>1.804983</td>\n",
       "      <td>0.2803</td>\n",
       "      <td>2</td>\n",
       "      <td>32_</td>\n",
       "    </tr>\n",
       "    <tr>\n",
       "      <th>3</th>\n",
       "      <td>1.785083</td>\n",
       "      <td>0.280683</td>\n",
       "      <td>1.761807</td>\n",
       "      <td>0.2876</td>\n",
       "      <td>3</td>\n",
       "      <td>32_</td>\n",
       "    </tr>\n",
       "    <tr>\n",
       "      <th>4</th>\n",
       "      <td>1.736373</td>\n",
       "      <td>0.290683</td>\n",
       "      <td>1.714832</td>\n",
       "      <td>0.2993</td>\n",
       "      <td>4</td>\n",
       "      <td>32_</td>\n",
       "    </tr>\n",
       "    <tr>\n",
       "      <th>5</th>\n",
       "      <td>1.687876</td>\n",
       "      <td>0.301650</td>\n",
       "      <td>1.651965</td>\n",
       "      <td>0.3284</td>\n",
       "      <td>0</td>\n",
       "      <td>8_</td>\n",
       "    </tr>\n",
       "    <tr>\n",
       "      <th>6</th>\n",
       "      <td>1.649275</td>\n",
       "      <td>0.319500</td>\n",
       "      <td>1.622820</td>\n",
       "      <td>0.3356</td>\n",
       "      <td>1</td>\n",
       "      <td>8_</td>\n",
       "    </tr>\n",
       "    <tr>\n",
       "      <th>7</th>\n",
       "      <td>1.626280</td>\n",
       "      <td>0.345183</td>\n",
       "      <td>1.609105</td>\n",
       "      <td>0.3519</td>\n",
       "      <td>2</td>\n",
       "      <td>8_</td>\n",
       "    </tr>\n",
       "    <tr>\n",
       "      <th>8</th>\n",
       "      <td>1.598592</td>\n",
       "      <td>0.371183</td>\n",
       "      <td>1.612448</td>\n",
       "      <td>0.3779</td>\n",
       "      <td>3</td>\n",
       "      <td>8_</td>\n",
       "    </tr>\n",
       "    <tr>\n",
       "      <th>9</th>\n",
       "      <td>1.561812</td>\n",
       "      <td>0.386283</td>\n",
       "      <td>1.548545</td>\n",
       "      <td>0.3913</td>\n",
       "      <td>4</td>\n",
       "      <td>8_</td>\n",
       "    </tr>\n",
       "    <tr>\n",
       "      <th>10</th>\n",
       "      <td>1.521396</td>\n",
       "      <td>0.410800</td>\n",
       "      <td>1.519203</td>\n",
       "      <td>0.4045</td>\n",
       "      <td>0</td>\n",
       "      <td>512_</td>\n",
       "    </tr>\n",
       "    <tr>\n",
       "      <th>11</th>\n",
       "      <td>1.517498</td>\n",
       "      <td>0.411083</td>\n",
       "      <td>1.517566</td>\n",
       "      <td>0.4077</td>\n",
       "      <td>1</td>\n",
       "      <td>512_</td>\n",
       "    </tr>\n",
       "    <tr>\n",
       "      <th>12</th>\n",
       "      <td>1.516159</td>\n",
       "      <td>0.411850</td>\n",
       "      <td>1.516294</td>\n",
       "      <td>0.4067</td>\n",
       "      <td>2</td>\n",
       "      <td>512_</td>\n",
       "    </tr>\n",
       "    <tr>\n",
       "      <th>13</th>\n",
       "      <td>1.515066</td>\n",
       "      <td>0.412633</td>\n",
       "      <td>1.515635</td>\n",
       "      <td>0.4099</td>\n",
       "      <td>3</td>\n",
       "      <td>512_</td>\n",
       "    </tr>\n",
       "    <tr>\n",
       "      <th>14</th>\n",
       "      <td>1.514178</td>\n",
       "      <td>0.412183</td>\n",
       "      <td>1.514419</td>\n",
       "      <td>0.4083</td>\n",
       "      <td>4</td>\n",
       "      <td>512_</td>\n",
       "    </tr>\n",
       "  </tbody>\n",
       "</table>\n",
       "</div>"
      ],
      "text/plain": [
       "        loss  accuracy  val_loss  val_accuracy  epoch Batch Size\n",
       "0   2.154166  0.172383  1.963627        0.2287      0        32_\n",
       "1   1.905590  0.244617  1.860259        0.2611      1        32_\n",
       "2   1.835750  0.264600  1.804983        0.2803      2        32_\n",
       "3   1.785083  0.280683  1.761807        0.2876      3        32_\n",
       "4   1.736373  0.290683  1.714832        0.2993      4        32_\n",
       "5   1.687876  0.301650  1.651965        0.3284      0         8_\n",
       "6   1.649275  0.319500  1.622820        0.3356      1         8_\n",
       "7   1.626280  0.345183  1.609105        0.3519      2         8_\n",
       "8   1.598592  0.371183  1.612448        0.3779      3         8_\n",
       "9   1.561812  0.386283  1.548545        0.3913      4         8_\n",
       "10  1.521396  0.410800  1.519203        0.4045      0       512_\n",
       "11  1.517498  0.411083  1.517566        0.4077      1       512_\n",
       "12  1.516159  0.411850  1.516294        0.4067      2       512_\n",
       "13  1.515066  0.412633  1.515635        0.4099      3       512_\n",
       "14  1.514178  0.412183  1.514419        0.4083      4       512_"
      ]
     },
     "execution_count": 24,
     "metadata": {},
     "output_type": "execute_result"
    }
   ],
   "source": [
    "import seaborn as sns\n",
    "import pandas as pd\n",
    "\n",
    "experiment_dfs = []\n",
    "\n",
    "for experiment, label in zip([bt_default, bt_small, bt_large], [\"32_\", \"8_\", \"512_\"]):\n",
    "\n",
    "    df = pd.DataFrame.from_dict(experiment.history)\n",
    "    df['epoch'] = df.index.values\n",
    "    df['Batch Size'] = label\n",
    "\n",
    "    # append to list of experiment data frames\n",
    "    experiment_dfs.append(df)\n",
    "\n",
    "df = pd.concat(experiment_dfs,ignore_index=True)\n",
    "df['Batch Size'] = df['Batch Size'].astype('str')\n",
    "df"
   ]
  },
  {
   "cell_type": "code",
   "execution_count": null,
   "metadata": {
    "colab": {
     "base_uri": "https://localhost:8080/",
     "height": 279
    },
    "executionInfo": {
     "elapsed": 575,
     "status": "ok",
     "timestamp": 1633481652479,
     "user": {
      "displayName": "Joseph catanzarite",
      "photoUrl": "https://lh3.googleusercontent.com/a-/AOh14GgmMRaw8NgoEDqzevEZ6b18iOYdEH9nWTZeaFBW=s64",
      "userId": "16649206137414945374"
     },
     "user_tz": 420
    },
    "id": "Dlg9uSEEmIJB",
    "outputId": "1dda0f16-7c8c-4625-a07f-046bbcbe0979"
   },
   "outputs": [
    {
     "data": {
      "image/png": "[encoded data removed]",
      "text/plain": [
       "<Figure size 432x288 with 1 Axes>"
      ]
     },
     "metadata": {
      "needs_background": "light"
     },
     "output_type": "display_data"
    }
   ],
   "source": [
    "sns.lineplot(x='epoch', y='val_accuracy', hue='Batch Size', data=df);\n",
    "plt.grid()"
   ]
  },
  {
   "cell_type": "code",
   "execution_count": null,
   "metadata": {
    "colab": {
     "base_uri": "https://localhost:8080/",
     "height": 282
    },
    "executionInfo": {
     "elapsed": 349,
     "status": "ok",
     "timestamp": 1633481652826,
     "user": {
      "displayName": "Joseph catanzarite",
      "photoUrl": "https://lh3.googleusercontent.com/a-/AOh14GgmMRaw8NgoEDqzevEZ6b18iOYdEH9nWTZeaFBW=s64",
      "userId": "16649206137414945374"
     },
     "user_tz": 420
    },
    "id": "94bJYgz3nkp0",
    "outputId": "b5d7738a-06e8-45e7-ec9f-78d033904ac4"
   },
   "outputs": [
    {
     "data": {
      "image/png": "[encoded data removed]",
      "text/plain": [
       "<Figure size 432x288 with 1 Axes>"
      ]
     },
     "metadata": {
      "needs_background": "light"
     },
     "output_type": "display_data"
    }
   ],
   "source": [
    "sns.lineplot(x='epoch', y='val_loss', hue='Batch Size', data=df);\n",
    "plt.grid()"
   ]
  },
  {
   "cell_type": "markdown",
   "metadata": {
    "id": "4kZ2vUYYgclS"
   },
   "source": [
    "## Challenge\n",
    "\n",
    "You will be expected to experiment with batch size on today's assignment."
   ]
  },
  {
   "cell_type": "markdown",
   "metadata": {
    "id": "46cP9Pm_gclS"
   },
   "source": [
    "# 3. The Effect of the Learning Rate Hyperparameter on Neural Network Training (Learn)"
   ]
  },
  {
   "cell_type": "markdown",
   "metadata": {
    "id": "SXBoghYG9G5A"
   },
   "source": [
    "![](https://www.jeremyjordan.me/content/images/2018/02/Screen-Shot-2018-02-24-at-11.47.09-AM.png)"
   ]
  },
  {
   "cell_type": "markdown",
   "metadata": {
    "id": "Bna67ADZgclT",
    "toc-hr-collapsed": true
   },
   "source": [
    "## 3.1 Overview\n",
    "\n",
    "Learning Rate controls the size of the update to our weights that the optimization algorithm makes. VERY IMPORTANT hyperparameter.\n",
    "\n",
    "* If the learning rate is too high, the model will not find the minimum\n",
    "* If the learning rate is too low, the model will underfit or take too long to converge\n",
    "* Goldilocks learning rate is \"just right\", the model converges rapidly\n",
    "* Scale of 0-1"
   ]
  },
  {
   "cell_type": "markdown",
   "metadata": {
    "id": "gsVYOn7bgcle",
    "toc-hr-collapsed": true
   },
   "source": [
    "## 3.2 Experiments to gauge the effect of learning rate (Follow Along)\n",
    "\n",
    "Try experiments with same Batch Size = 32 but different Learning Rates:\n",
    "* High Learning Rate = .75\n",
    "* Default Learning Rate = .01\n",
    "* Low Learning Rate = .0001"
   ]
  },
  {
   "cell_type": "markdown",
   "metadata": {
    "id": "CI_H8Em1NOii"
   },
   "source": [
    "### 3.2.1 Default Learning Rate"
   ]
  },
  {
   "cell_type": "code",
   "execution_count": 25,
   "metadata": {
    "colab": {
     "base_uri": "https://localhost:8080/"
    },
    "executionInfo": {
     "elapsed": 20048,
     "status": "ok",
     "timestamp": 1635875858173,
     "user": {
      "displayName": "Joseph catanzarite",
      "photoUrl": "https://lh3.googleusercontent.com/a-/AOh14GgmMRaw8NgoEDqzevEZ6b18iOYdEH9nWTZeaFBW=s64",
      "userId": "16649206137414945374"
     },
     "user_tz": 420
    },
    "id": "Se8cb_ZUNVtL",
    "outputId": "62109807-75ed-420d-9417-951a2d1df6fb"
   },
   "outputs": [
    {
     "name": "stdout",
     "output_type": "stream",
     "text": [
      "Epoch 1/5\n",
      "1875/1875 [==============================] - 4s 2ms/step - loss: 2.0427 - accuracy: 0.2214 - val_loss: 1.9277 - val_accuracy: 0.2489\n",
      "Epoch 2/5\n",
      "1875/1875 [==============================] - 4s 2ms/step - loss: 1.8657 - accuracy: 0.2733 - val_loss: 1.7931 - val_accuracy: 0.2993\n",
      "Epoch 3/5\n",
      "1875/1875 [==============================] - 4s 2ms/step - loss: 1.7198 - accuracy: 0.3079 - val_loss: 1.6709 - val_accuracy: 0.3015\n",
      "Epoch 4/5\n",
      "1875/1875 [==============================] - 4s 2ms/step - loss: 1.6417 - accuracy: 0.3180 - val_loss: 1.6311 - val_accuracy: 0.3110\n",
      "Epoch 5/5\n",
      "1875/1875 [==============================] - 4s 2ms/step - loss: 1.6091 - accuracy: 0.3374 - val_loss: 1.5965 - val_accuracy: 0.3528\n"
     ]
    }
   ],
   "source": [
    "# instantiate a model and fit it with a learning rate value of 0.01\n",
    "model = create_model(lr=.01)\n",
    "lr_default = model.fit(X_train, y_train, batch_size=32, validation_data=(X_test, y_test), epochs=5)"
   ]
  },
  {
   "cell_type": "markdown",
   "metadata": {
    "id": "IQZ4SZdKNMRO"
   },
   "source": [
    "### 3.2.2 High Learning Rate"
   ]
  },
  {
   "cell_type": "code",
   "execution_count": 28,
   "metadata": {
    "colab": {
     "base_uri": "https://localhost:8080/"
    },
    "executionInfo": {
     "elapsed": 21307,
     "status": "ok",
     "timestamp": 1635875921324,
     "user": {
      "displayName": "Joseph catanzarite",
      "photoUrl": "https://lh3.googleusercontent.com/a-/AOh14GgmMRaw8NgoEDqzevEZ6b18iOYdEH9nWTZeaFBW=s64",
      "userId": "16649206137414945374"
     },
     "user_tz": 420
    },
    "id": "Ny72mU_dNWMR",
    "outputId": "45b39fce-a5d6-4ce7-a1cb-3c2bf74726b3"
   },
   "outputs": [
    {
     "name": "stdout",
     "output_type": "stream",
     "text": [
      "Epoch 1/5\n",
      "1875/1875 [==============================] - 4s 2ms/step - loss: 2.3068 - accuracy: 0.1068 - val_loss: 2.3085 - val_accuracy: 0.1028\n",
      "Epoch 2/5\n",
      "1875/1875 [==============================] - 4s 2ms/step - loss: 2.3070 - accuracy: 0.1021 - val_loss: 2.3088 - val_accuracy: 0.1135\n",
      "Epoch 3/5\n",
      "1875/1875 [==============================] - 4s 2ms/step - loss: 2.3068 - accuracy: 0.1051 - val_loss: 2.3049 - val_accuracy: 0.0958\n",
      "Epoch 4/5\n",
      "1875/1875 [==============================] - 3s 2ms/step - loss: 2.3069 - accuracy: 0.1040 - val_loss: 2.3035 - val_accuracy: 0.1028\n",
      "Epoch 5/5\n",
      "1875/1875 [==============================] - 4s 2ms/step - loss: 2.3068 - accuracy: 0.1058 - val_loss: 2.3112 - val_accuracy: 0.0958\n"
     ]
    }
   ],
   "source": [
    "# instantiate a model and fit it with a learning rate value of 0.75\n",
    "model = create_model(lr=0.75)\n",
    "lr_high = model.fit(X_train, y_train, batch_size=32, validation_data=(X_test, y_test), epochs=5)"
   ]
  },
  {
   "cell_type": "markdown",
   "metadata": {
    "id": "kAqDmTVBNSMR"
   },
   "source": [
    "### 3.2.3 Low Learning Rate"
   ]
  },
  {
   "cell_type": "code",
   "execution_count": 26,
   "metadata": {
    "colab": {
     "base_uri": "https://localhost:8080/"
    },
    "collapsed": true,
    "executionInfo": {
     "elapsed": 21327,
     "status": "ok",
     "timestamp": 1635875881530,
     "user": {
      "displayName": "Joseph catanzarite",
      "photoUrl": "https://lh3.googleusercontent.com/a-/AOh14GgmMRaw8NgoEDqzevEZ6b18iOYdEH9nWTZeaFBW=s64",
      "userId": "16649206137414945374"
     },
     "user_tz": 420
    },
    "id": "Ech1ER64NXBn",
    "jupyter": {
     "outputs_hidden": true
    },
    "outputId": "5a42b2e2-54c2-4a27-a9ff-a3519a6a19ce"
   },
   "outputs": [
    {
     "name": "stdout",
     "output_type": "stream",
     "text": [
      "Epoch 1/5\n",
      "1875/1875 [==============================] - 4s 2ms/step - loss: 2.3006 - accuracy: 0.0613 - val_loss: 2.2973 - val_accuracy: 0.0506\n",
      "Epoch 2/5\n",
      "1875/1875 [==============================] - 4s 2ms/step - loss: 2.2947 - accuracy: 0.0612 - val_loss: 2.2915 - val_accuracy: 0.0635\n",
      "Epoch 3/5\n",
      "1875/1875 [==============================] - 4s 2ms/step - loss: 2.2891 - accuracy: 0.0821 - val_loss: 2.2858 - val_accuracy: 0.0938\n",
      "Epoch 4/5\n",
      "1875/1875 [==============================] - 3s 2ms/step - loss: 2.2833 - accuracy: 0.1059 - val_loss: 2.2797 - val_accuracy: 0.1128\n",
      "Epoch 5/5\n",
      "1875/1875 [==============================] - 4s 2ms/step - loss: 2.2771 - accuracy: 0.1441 - val_loss: 2.2730 - val_accuracy: 0.1490\n"
     ]
    }
   ],
   "source": [
    "# instantiate a model and fit it with a learning rate value of 0.0001\n",
    "model = create_model(lr=0.0001)\n",
    "lr_low = model.fit(X_train, y_train, batch_size=32, validation_data=(X_test, y_test), epochs=5)"
   ]
  },
  {
   "cell_type": "markdown",
   "metadata": {
    "id": "sZe6DyhANXdU"
   },
   "source": [
    "### 3.2.4 Visualize Results"
   ]
  },
  {
   "cell_type": "code",
   "execution_count": 29,
   "metadata": {
    "colab": {
     "base_uri": "https://localhost:8080/",
     "height": 520
    },
    "executionInfo": {
     "elapsed": 580,
     "status": "ok",
     "timestamp": 1635875925817,
     "user": {
      "displayName": "Joseph catanzarite",
      "photoUrl": "https://lh3.googleusercontent.com/a-/AOh14GgmMRaw8NgoEDqzevEZ6b18iOYdEH9nWTZeaFBW=s64",
      "userId": "16649206137414945374"
     },
     "user_tz": 420
    },
    "id": "Bn-BdFdMNph-",
    "outputId": "ccc22ada-b0cf-4d85-b4fd-c00709066356"
   },
   "outputs": [
    {
     "data": {
      "text/html": [
       "<div>\n",
       "<style scoped>\n",
       "    .dataframe tbody tr th:only-of-type {\n",
       "        vertical-align: middle;\n",
       "    }\n",
       "\n",
       "    .dataframe tbody tr th {\n",
       "        vertical-align: top;\n",
       "    }\n",
       "\n",
       "    .dataframe thead th {\n",
       "        text-align: right;\n",
       "    }\n",
       "</style>\n",
       "<table border=\"1\" class=\"dataframe\">\n",
       "  <thead>\n",
       "    <tr style=\"text-align: right;\">\n",
       "      <th></th>\n",
       "      <th>loss</th>\n",
       "      <th>accuracy</th>\n",
       "      <th>val_loss</th>\n",
       "      <th>val_accuracy</th>\n",
       "      <th>epoch</th>\n",
       "      <th>Learning Rate</th>\n",
       "    </tr>\n",
       "  </thead>\n",
       "  <tbody>\n",
       "    <tr>\n",
       "      <th>0</th>\n",
       "      <td>2.042748</td>\n",
       "      <td>0.221383</td>\n",
       "      <td>1.927688</td>\n",
       "      <td>0.2489</td>\n",
       "      <td>0</td>\n",
       "      <td>.01_</td>\n",
       "    </tr>\n",
       "    <tr>\n",
       "      <th>1</th>\n",
       "      <td>1.865727</td>\n",
       "      <td>0.273267</td>\n",
       "      <td>1.793136</td>\n",
       "      <td>0.2993</td>\n",
       "      <td>1</td>\n",
       "      <td>.01_</td>\n",
       "    </tr>\n",
       "    <tr>\n",
       "      <th>2</th>\n",
       "      <td>1.719807</td>\n",
       "      <td>0.307933</td>\n",
       "      <td>1.670906</td>\n",
       "      <td>0.3015</td>\n",
       "      <td>2</td>\n",
       "      <td>.01_</td>\n",
       "    </tr>\n",
       "    <tr>\n",
       "      <th>3</th>\n",
       "      <td>1.641659</td>\n",
       "      <td>0.318000</td>\n",
       "      <td>1.631062</td>\n",
       "      <td>0.3110</td>\n",
       "      <td>3</td>\n",
       "      <td>.01_</td>\n",
       "    </tr>\n",
       "    <tr>\n",
       "      <th>4</th>\n",
       "      <td>1.609124</td>\n",
       "      <td>0.337400</td>\n",
       "      <td>1.596534</td>\n",
       "      <td>0.3528</td>\n",
       "      <td>4</td>\n",
       "      <td>.01_</td>\n",
       "    </tr>\n",
       "    <tr>\n",
       "      <th>5</th>\n",
       "      <td>2.300604</td>\n",
       "      <td>0.061267</td>\n",
       "      <td>2.297306</td>\n",
       "      <td>0.0506</td>\n",
       "      <td>0</td>\n",
       "      <td>.0001_</td>\n",
       "    </tr>\n",
       "    <tr>\n",
       "      <th>6</th>\n",
       "      <td>2.294688</td>\n",
       "      <td>0.061233</td>\n",
       "      <td>2.291546</td>\n",
       "      <td>0.0635</td>\n",
       "      <td>1</td>\n",
       "      <td>.0001_</td>\n",
       "    </tr>\n",
       "    <tr>\n",
       "      <th>7</th>\n",
       "      <td>2.289127</td>\n",
       "      <td>0.082050</td>\n",
       "      <td>2.285793</td>\n",
       "      <td>0.0938</td>\n",
       "      <td>2</td>\n",
       "      <td>.0001_</td>\n",
       "    </tr>\n",
       "    <tr>\n",
       "      <th>8</th>\n",
       "      <td>2.283313</td>\n",
       "      <td>0.105900</td>\n",
       "      <td>2.279679</td>\n",
       "      <td>0.1128</td>\n",
       "      <td>3</td>\n",
       "      <td>.0001_</td>\n",
       "    </tr>\n",
       "    <tr>\n",
       "      <th>9</th>\n",
       "      <td>2.277057</td>\n",
       "      <td>0.144067</td>\n",
       "      <td>2.273045</td>\n",
       "      <td>0.1490</td>\n",
       "      <td>4</td>\n",
       "      <td>.0001_</td>\n",
       "    </tr>\n",
       "    <tr>\n",
       "      <th>10</th>\n",
       "      <td>2.306796</td>\n",
       "      <td>0.106850</td>\n",
       "      <td>2.308532</td>\n",
       "      <td>0.1028</td>\n",
       "      <td>0</td>\n",
       "      <td>.75_</td>\n",
       "    </tr>\n",
       "    <tr>\n",
       "      <th>11</th>\n",
       "      <td>2.307016</td>\n",
       "      <td>0.102133</td>\n",
       "      <td>2.308773</td>\n",
       "      <td>0.1135</td>\n",
       "      <td>1</td>\n",
       "      <td>.75_</td>\n",
       "    </tr>\n",
       "    <tr>\n",
       "      <th>12</th>\n",
       "      <td>2.306790</td>\n",
       "      <td>0.105117</td>\n",
       "      <td>2.304949</td>\n",
       "      <td>0.0958</td>\n",
       "      <td>2</td>\n",
       "      <td>.75_</td>\n",
       "    </tr>\n",
       "    <tr>\n",
       "      <th>13</th>\n",
       "      <td>2.306852</td>\n",
       "      <td>0.104000</td>\n",
       "      <td>2.303487</td>\n",
       "      <td>0.1028</td>\n",
       "      <td>3</td>\n",
       "      <td>.75_</td>\n",
       "    </tr>\n",
       "    <tr>\n",
       "      <th>14</th>\n",
       "      <td>2.306796</td>\n",
       "      <td>0.105833</td>\n",
       "      <td>2.311179</td>\n",
       "      <td>0.0958</td>\n",
       "      <td>4</td>\n",
       "      <td>.75_</td>\n",
       "    </tr>\n",
       "  </tbody>\n",
       "</table>\n",
       "</div>"
      ],
      "text/plain": [
       "        loss  accuracy  val_loss  val_accuracy  epoch Learning Rate\n",
       "0   2.042748  0.221383  1.927688        0.2489      0          .01_\n",
       "1   1.865727  0.273267  1.793136        0.2993      1          .01_\n",
       "2   1.719807  0.307933  1.670906        0.3015      2          .01_\n",
       "3   1.641659  0.318000  1.631062        0.3110      3          .01_\n",
       "4   1.609124  0.337400  1.596534        0.3528      4          .01_\n",
       "5   2.300604  0.061267  2.297306        0.0506      0        .0001_\n",
       "6   2.294688  0.061233  2.291546        0.0635      1        .0001_\n",
       "7   2.289127  0.082050  2.285793        0.0938      2        .0001_\n",
       "8   2.283313  0.105900  2.279679        0.1128      3        .0001_\n",
       "9   2.277057  0.144067  2.273045        0.1490      4        .0001_\n",
       "10  2.306796  0.106850  2.308532        0.1028      0          .75_\n",
       "11  2.307016  0.102133  2.308773        0.1135      1          .75_\n",
       "12  2.306790  0.105117  2.304949        0.0958      2          .75_\n",
       "13  2.306852  0.104000  2.303487        0.1028      3          .75_\n",
       "14  2.306796  0.105833  2.311179        0.0958      4          .75_"
      ]
     },
     "execution_count": 29,
     "metadata": {},
     "output_type": "execute_result"
    }
   ],
   "source": [
    "import seaborn as sns\n",
    "import pandas as pd\n",
    "\n",
    "experiments = []\n",
    "\n",
    "for experiment, label in zip([lr_default, lr_low, lr_high], [\".01_\", \".0001_\", \".75_\"]):\n",
    "\n",
    "    df = pd.DataFrame.from_dict(experiment.history)\n",
    "    df['epoch'] = df.index.values\n",
    "    df['Learning Rate'] = label\n",
    "\n",
    "    experiments.append(df)\n",
    "\n",
    "df = pd.concat(experiments,ignore_index=True)\n",
    "df['Learning Rate'] = df['Learning Rate'].astype('str')\n",
    "df"
   ]
  },
  {
   "cell_type": "code",
   "execution_count": null,
   "metadata": {
    "colab": {
     "base_uri": "https://localhost:8080/",
     "height": 279
    },
    "executionInfo": {
     "elapsed": 881,
     "status": "ok",
     "timestamp": 1633471507945,
     "user": {
      "displayName": "Joseph catanzarite",
      "photoUrl": "https://lh3.googleusercontent.com/a-/AOh14GgmMRaw8NgoEDqzevEZ6b18iOYdEH9nWTZeaFBW=s64",
      "userId": "16649206137414945374"
     },
     "user_tz": 420
    },
    "id": "QgDX7htLpTlQ",
    "outputId": "b5e74b5d-c8ae-4b54-e84e-44f07d830e7a"
   },
   "outputs": [
    {
     "data": {
      "image/png": "[encoded data removed]",
      "text/plain": [
       "<Figure size 432x288 with 1 Axes>"
      ]
     },
     "metadata": {
      "needs_background": "light"
     },
     "output_type": "display_data"
    }
   ],
   "source": [
    "sns.lineplot(x='epoch', y='val_loss', hue='Learning Rate', data=df);\n",
    "plt.grid()"
   ]
  },
  {
   "cell_type": "code",
   "execution_count": null,
   "metadata": {
    "colab": {
     "base_uri": "https://localhost:8080/",
     "height": 279
    },
    "executionInfo": {
     "elapsed": 871,
     "status": "ok",
     "timestamp": 1633471588803,
     "user": {
      "displayName": "Joseph catanzarite",
      "photoUrl": "https://lh3.googleusercontent.com/a-/AOh14GgmMRaw8NgoEDqzevEZ6b18iOYdEH9nWTZeaFBW=s64",
      "userId": "16649206137414945374"
     },
     "user_tz": 420
    },
    "id": "D8GPXqf_qGs9",
    "outputId": "8eedbe28-ec55-4778-e203-0be0d1601784"
   },
   "outputs": [
    {
     "data": {
      "image/png": "[encoded data removed]",
      "text/plain": [
       "<Figure size 432x288 with 1 Axes>"
      ]
     },
     "metadata": {
      "needs_background": "light"
     },
     "output_type": "display_data"
    }
   ],
   "source": [
    "sns.lineplot(x='epoch', y='val_accuracy', hue='Learning Rate', data=df);\n",
    "plt.grid()"
   ]
  },
  {
   "cell_type": "markdown",
   "metadata": {
    "id": "Hp1jHQ95swhy"
   },
   "source": [
    "##3.3 Learning Rate Scheduler Callback\n",
    "A great way to tune the learning rate is to use a learning rate scheduler, which adjusts the learning rate at each epoch according to a user-supplied \"schedule\". We'll show how to introduce an exponentially increasing schedule.\n",
    "The idea is you do a trial run with the scheduler, plot the loss vs. epoch, and choose a good learning rate by inspecting the plot."
   ]
  },
  {
   "cell_type": "markdown",
   "metadata": {
    "id": "o6SnRB9Cupwo"
   },
   "source": [
    "Here is a learning rate scheduler that starts the learning rate at 1.e-6 and increases by a factor of ten every 5 epochs. So that over 30 epochs, the learning rate goes from 1.e-6 up to 1.0 "
   ]
  },
  {
   "cell_type": "code",
   "execution_count": 31,
   "metadata": {
    "executionInfo": {
     "elapsed": 254,
     "status": "ok",
     "timestamp": 1635876099329,
     "user": {
      "displayName": "Joseph catanzarite",
      "photoUrl": "https://lh3.googleusercontent.com/a-/AOh14GgmMRaw8NgoEDqzevEZ6b18iOYdEH9nWTZeaFBW=s64",
      "userId": "16649206137414945374"
     },
     "user_tz": 420
    },
    "id": "m3-iOvmmulKa"
   },
   "outputs": [],
   "source": [
    "def scheduler(epoch):\n",
    "    lr = 1e-6 * 10**(epoch/5)\n",
    "    return lr\n",
    "\n",
    "# Here is the callback\n",
    "lr_schedule = tf.keras.callbacks.LearningRateScheduler(scheduler)"
   ]
  },
  {
   "cell_type": "markdown",
   "metadata": {
    "id": "z8i6vHFuvIA9"
   },
   "source": [
    "Let's try it out!"
   ]
  },
  {
   "cell_type": "code",
   "execution_count": 32,
   "metadata": {
    "colab": {
     "base_uri": "https://localhost:8080/",
     "height": 1000
    },
    "executionInfo": {
     "elapsed": 142898,
     "status": "ok",
     "timestamp": 1635876244835,
     "user": {
      "displayName": "Joseph catanzarite",
      "photoUrl": "https://lh3.googleusercontent.com/a-/AOh14GgmMRaw8NgoEDqzevEZ6b18iOYdEH9nWTZeaFBW=s64",
      "userId": "16649206137414945374"
     },
     "user_tz": 420
    },
    "id": "Pw3qyG1jt7y2",
    "outputId": "6ca87a26-2bd7-4921-efb1-f2f0e16b4fcf"
   },
   "outputs": [
    {
     "name": "stdout",
     "output_type": "stream",
     "text": [
      "Epoch 1/30\n",
      "1875/1875 [==============================] - 3s 2ms/step - loss: 2.2944 - accuracy: 0.1268\n",
      "Epoch 2/30\n",
      "1875/1875 [==============================] - 3s 2ms/step - loss: 2.2942 - accuracy: 0.1273\n",
      "Epoch 3/30\n",
      "1875/1875 [==============================] - 3s 2ms/step - loss: 2.2939 - accuracy: 0.1278\n",
      "Epoch 4/30\n",
      "1875/1875 [==============================] - 3s 2ms/step - loss: 2.2934 - accuracy: 0.1285\n",
      "Epoch 5/30\n",
      "1875/1875 [==============================] - 3s 2ms/step - loss: 2.2926 - accuracy: 0.1297\n",
      "Epoch 6/30\n",
      "1875/1875 [==============================] - 3s 2ms/step - loss: 2.2914 - accuracy: 0.1315\n",
      "Epoch 7/30\n",
      "1875/1875 [==============================] - 3s 2ms/step - loss: 2.2897 - accuracy: 0.1342\n",
      "Epoch 8/30\n",
      "1875/1875 [==============================] - 3s 2ms/step - loss: 2.2873 - accuracy: 0.1378\n",
      "Epoch 9/30\n",
      "1875/1875 [==============================] - 3s 2ms/step - loss: 2.2838 - accuracy: 0.1427\n",
      "Epoch 10/30\n",
      "1875/1875 [==============================] - 3s 2ms/step - loss: 2.2788 - accuracy: 0.1488\n",
      "Epoch 11/30\n",
      "1875/1875 [==============================] - 3s 2ms/step - loss: 2.2713 - accuracy: 0.1553\n",
      "Epoch 12/30\n",
      "1875/1875 [==============================] - 3s 2ms/step - loss: 2.2591 - accuracy: 0.1610\n",
      "Epoch 13/30\n",
      "1875/1875 [==============================] - 3s 2ms/step - loss: 2.2388 - accuracy: 0.1671\n",
      "Epoch 14/30\n",
      "1875/1875 [==============================] - 3s 2ms/step - loss: 2.2041 - accuracy: 0.1731\n",
      "Epoch 15/30\n",
      "1875/1875 [==============================] - 3s 2ms/step - loss: 2.1490 - accuracy: 0.1782\n",
      "Epoch 16/30\n",
      "1875/1875 [==============================] - 3s 2ms/step - loss: 2.0822 - accuracy: 0.2010\n",
      "Epoch 17/30\n",
      "1875/1875 [==============================] - 3s 2ms/step - loss: 2.0202 - accuracy: 0.2140\n",
      "Epoch 18/30\n",
      "1875/1875 [==============================] - 3s 2ms/step - loss: 1.9611 - accuracy: 0.2269\n",
      "Epoch 19/30\n",
      "1875/1875 [==============================] - 3s 2ms/step - loss: 1.9009 - accuracy: 0.2393\n",
      "Epoch 20/30\n",
      "1875/1875 [==============================] - 3s 2ms/step - loss: 1.8411 - accuracy: 0.2500\n",
      "Epoch 21/30\n",
      "1875/1875 [==============================] - 3s 2ms/step - loss: 1.7824 - accuracy: 0.2646\n",
      "Epoch 22/30\n",
      "1875/1875 [==============================] - 3s 2ms/step - loss: 1.7279 - accuracy: 0.2842\n",
      "Epoch 23/30\n",
      "1875/1875 [==============================] - 3s 2ms/step - loss: 1.6854 - accuracy: 0.3065\n",
      "Epoch 24/30\n",
      "1875/1875 [==============================] - 3s 2ms/step - loss: 1.6606 - accuracy: 0.3074\n",
      "Epoch 25/30\n",
      "1875/1875 [==============================] - 3s 2ms/step - loss: 1.6450 - accuracy: 0.3291\n",
      "Epoch 26/30\n",
      "1875/1875 [==============================] - 3s 2ms/step - loss: 1.6397 - accuracy: 0.3267\n",
      "Epoch 27/30\n",
      "1875/1875 [==============================] - 3s 2ms/step - loss: 1.6771 - accuracy: 0.3031\n",
      "Epoch 28/30\n",
      "1875/1875 [==============================] - 3s 2ms/step - loss: 1.7985 - accuracy: 0.2650\n",
      "Epoch 29/30\n",
      "1875/1875 [==============================] - 3s 2ms/step - loss: 1.8441 - accuracy: 0.2062\n",
      "Epoch 30/30\n",
      "1875/1875 [==============================] - 3s 2ms/step - loss: 1.8705 - accuracy: 0.1979\n"
     ]
    },
    {
     "data": {
      "text/plain": [
       "(1e-06, 0.001, 0.0, 20.0)"
      ]
     },
     "execution_count": 32,
     "metadata": {},
     "output_type": "execute_result"
    },
    {
     "data": {
      "image/png": "[encoded data removed]",
      "text/plain": [
       "<Figure size 432x288 with 1 Axes>"
      ]
     },
     "metadata": {
      "needs_background": "light"
     },
     "output_type": "display_data"
    }
   ],
   "source": [
    "# create the model and fit it, passing in the learning rate scheduler callback that we created\n",
    "epochs = 30\n",
    "batch_size = 32\n",
    "model = create_model()\n",
    "history = model.fit(X_train, y_train, batch_size=batch_size,callbacks=[lr_schedule] , epochs=epochs)"
   ]
  },
  {
   "cell_type": "code",
   "execution_count": 38,
   "metadata": {
    "colab": {
     "base_uri": "https://localhost:8080/",
     "height": 273
    },
    "executionInfo": {
     "elapsed": 365,
     "status": "ok",
     "timestamp": 1635876361878,
     "user": {
      "displayName": "Joseph catanzarite",
      "photoUrl": "https://lh3.googleusercontent.com/a-/AOh14GgmMRaw8NgoEDqzevEZ6b18iOYdEH9nWTZeaFBW=s64",
      "userId": "16649206137414945374"
     },
     "user_tz": 420
    },
    "id": "pVOybRya0u3d",
    "outputId": "ca5fad37-f29b-4453-8ebe-a618be6e8465"
   },
   "outputs": [
    {
     "data": {
      "image/png": "[encoded data removed]",
      "text/plain": [
       "<Figure size 432x288 with 1 Axes>"
      ]
     },
     "metadata": {
      "needs_background": "light"
     },
     "output_type": "display_data"
    }
   ],
   "source": [
    "# plot the result\n",
    "plt.semilogx(history.history[\"lr\"], history.history[\"accuracy\"])\n",
    "plt.axis([1e-6, 1, 0, 0.5])\n",
    "plt.grid()"
   ]
  },
  {
   "cell_type": "code",
   "execution_count": 40,
   "metadata": {
    "colab": {
     "base_uri": "https://localhost:8080/",
     "height": 273
    },
    "executionInfo": {
     "elapsed": 859,
     "status": "ok",
     "timestamp": 1635876487322,
     "user": {
      "displayName": "Joseph catanzarite",
      "photoUrl": "https://lh3.googleusercontent.com/a-/AOh14GgmMRaw8NgoEDqzevEZ6b18iOYdEH9nWTZeaFBW=s64",
      "userId": "16649206137414945374"
     },
     "user_tz": 420
    },
    "id": "1BXA30jw1YhV",
    "outputId": "a73ad0a3-8205-43fa-a13a-e1aa63719ed2"
   },
   "outputs": [
    {
     "data": {
      "image/png": "[encoded data removed]",
      "text/plain": [
       "<Figure size 432x288 with 1 Axes>"
      ]
     },
     "metadata": {
      "needs_background": "light"
     },
     "output_type": "display_data"
    }
   ],
   "source": [
    "# plot the result\n",
    "plt.semilogx(history.history[\"lr\"], history.history[\"loss\"])\n",
    "plt.axis([1e-6, 1, 0, 2.5])\n",
    "plt.grid()"
   ]
  },
  {
   "cell_type": "markdown",
   "metadata": {
    "id": "Kb2aiw_Sgcl7"
   },
   "source": [
    "## Challenge\n",
    "\n",
    "You will be expected to experiment with different learning rates today.\n",
    "\n",
    "---"
   ]
  },
  {
   "cell_type": "markdown",
   "metadata": {
    "id": "GszSNVwUrmXy"
   },
   "source": [
    "# 4. Stretch: How do I know if my neural net is overfitting ?\n",
    "\n",
    "Compare train losses vs. test losses (or use a metric such as `accuracy` instead of `loss`) and look for the gap between the curves. <br>\n",
    "This is for the results of section 3.2.4<br>\n",
    "\n",
    "\n",
    "See [How to use Learning Curves to Diagnose Machine Learning Model Performance](https://machinelearningmastery.com/learning-curves-for-diagnosing-machine-learning-model-performance/) for further details "
   ]
  },
  {
   "cell_type": "code",
   "execution_count": null,
   "metadata": {
    "id": "eP5u3_ZWr3Mn"
   },
   "outputs": [],
   "source": [
    "sns.lineplot(x='epoch', y='val_loss', data=df[df['Learning Rate']=='.01_'], label=\"test_loss\")\n",
    "sns.lineplot(x='epoch', y='loss', data=df[df['Learning Rate']=='.01_'], label=\"train_loss\");"
   ]
  },
  {
   "cell_type": "code",
   "execution_count": null,
   "metadata": {
    "id": "aBt1q68UsHoq"
   },
   "outputs": [],
   "source": [
    "sns.lineplot(x='epoch', y='val_accuracy', data=df[df['Learning Rate']=='.01_'])\n",
    "sns.lineplot(x='epoch', y='accuracy', data=df[df['Learning Rate']=='.01_']);"
   ]
  }
 ],
 "metadata": {
  "accelerator": "GPU",
  "celltoolbar": "Create Assignment",
  "colab": {
   "collapsed_sections": [],
   "name": "LS_DS_422_Train_Lecture.ipynb",
   "provenance": []
  },
  "kernelspec": {
   "display_name": "Python 3 (ipykernel)",
   "language": "python",
   "name": "python3"
  },
  "language_info": {
   "codemirror_mode": {
    "name": "ipython",
    "version": 3
   },
   "file_extension": ".py",
   "mimetype": "text/x-python",
   "name": "python",
   "nbconvert_exporter": "python",
   "pygments_lexer": "ipython3",
   "version": "3.8.12"
  }
 },
 "nbformat": 4,
 "nbformat_minor": 4
}
